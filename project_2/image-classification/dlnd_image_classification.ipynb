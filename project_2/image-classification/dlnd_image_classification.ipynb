{
 "cells": [
  {
   "cell_type": "markdown",
   "metadata": {
    "collapsed": true,
    "deletable": true,
    "editable": true
   },
   "source": [
    "# Image Classification\n",
    "In this project, you'll classify images from the [CIFAR-10 dataset](https://www.cs.toronto.edu/~kriz/cifar.html).  The dataset consists of airplanes, dogs, cats, and other objects. You'll preprocess the images, then train a convolutional neural network on all the samples. The images need to be normalized and the labels need to be one-hot encoded.  You'll get to apply what you learned and build a convolutional, max pooling, dropout, and fully connected layers.  At the end, you'll get to see your neural network's predictions on the sample images.\n",
    "## Get the Data\n",
    "Run the following cell to download the [CIFAR-10 dataset for python](https://www.cs.toronto.edu/~kriz/cifar-10-python.tar.gz)."
   ]
  },
  {
   "cell_type": "code",
   "execution_count": 2,
   "metadata": {
    "collapsed": false,
    "deletable": true,
    "editable": true
   },
   "outputs": [
    {
     "name": "stdout",
     "output_type": "stream",
     "text": [
      "All files found!\n"
     ]
    }
   ],
   "source": [
    "\"\"\"\n",
    "DON'T MODIFY ANYTHING IN THIS CELL THAT IS BELOW THIS LINE\n",
    "\"\"\"\n",
    "from urllib.request import urlretrieve\n",
    "from os.path import isfile, isdir\n",
    "from tqdm import tqdm\n",
    "import problem_unittests as tests\n",
    "import tarfile\n",
    "\n",
    "cifar10_dataset_folder_path = 'cifar-10-batches-py'\n",
    "\n",
    "# Use Floyd's cifar-10 dataset if present\n",
    "floyd_cifar10_location = '/input/cifar-10/python.tar.gz'\n",
    "if isfile(floyd_cifar10_location):\n",
    "    tar_gz_path = floyd_cifar10_location\n",
    "else:\n",
    "    tar_gz_path = 'cifar-10-python.tar.gz'\n",
    "\n",
    "class DLProgress(tqdm):\n",
    "    last_block = 0\n",
    "\n",
    "    def hook(self, block_num=1, block_size=1, total_size=None):\n",
    "        self.total = total_size\n",
    "        self.update((block_num - self.last_block) * block_size)\n",
    "        self.last_block = block_num\n",
    "\n",
    "if not isfile(tar_gz_path):\n",
    "    with DLProgress(unit='B', unit_scale=True, miniters=1, desc='CIFAR-10 Dataset') as pbar:\n",
    "        urlretrieve(\n",
    "            'https://www.cs.toronto.edu/~kriz/cifar-10-python.tar.gz',\n",
    "            tar_gz_path,\n",
    "            pbar.hook)\n",
    "\n",
    "if not isdir(cifar10_dataset_folder_path):\n",
    "    with tarfile.open(tar_gz_path) as tar:\n",
    "        tar.extractall()\n",
    "        tar.close()\n",
    "\n",
    "\n",
    "tests.test_folder_path(cifar10_dataset_folder_path)"
   ]
  },
  {
   "cell_type": "markdown",
   "metadata": {
    "deletable": true,
    "editable": true
   },
   "source": [
    "## Explore the Data\n",
    "The dataset is broken into batches to prevent your machine from running out of memory.  The CIFAR-10 dataset consists of 5 batches, named `data_batch_1`, `data_batch_2`, etc.. Each batch contains the labels and images that are one of the following:\n",
    "* airplane\n",
    "* automobile\n",
    "* bird\n",
    "* cat\n",
    "* deer\n",
    "* dog\n",
    "* frog\n",
    "* horse\n",
    "* ship\n",
    "* truck\n",
    "\n",
    "Understanding a dataset is part of making predictions on the data.  Play around with the code cell below by changing the `batch_id` and `sample_id`. The `batch_id` is the id for a batch (1-5). The `sample_id` is the id for a image and label pair in the batch.\n",
    "\n",
    "Ask yourself \"What are all possible labels?\", \"What is the range of values for the image data?\", \"Are the labels in order or random?\".  Answers to questions like these will help you preprocess the data and end up with better predictions."
   ]
  },
  {
   "cell_type": "code",
   "execution_count": 68,
   "metadata": {
    "collapsed": false,
    "deletable": true,
    "editable": true
   },
   "outputs": [
    {
     "name": "stdout",
     "output_type": "stream",
     "text": [
      "\n",
      "Stats of batch 2:\n",
      "Samples: 10000\n",
      "Label Counts: {0: 984, 1: 1007, 2: 1010, 3: 995, 4: 1010, 5: 988, 6: 1008, 7: 1026, 8: 987, 9: 985}\n",
      "First 20 Labels: [1, 6, 6, 8, 8, 3, 4, 6, 0, 6, 0, 3, 6, 6, 5, 4, 8, 3, 2, 6]\n",
      "\n",
      "Example of Image 1:\n",
      "Image - Min Value: 2 Max Value: 247\n",
      "Image - Shape: (32, 32, 3)\n",
      "Label - Label Id: 6 Name: frog\n"
     ]
    },
    {
     "data": {
      "image/png": "[encoded data removed]",
      "text/plain": [
       "<matplotlib.figure.Figure at 0x7f3324afa978>"
      ]
     },
     "metadata": {
      "image/png": {
       "height": 250,
       "width": 253
      }
     },
     "output_type": "display_data"
    }
   ],
   "source": [
    "%matplotlib inline\n",
    "%config InlineBackend.figure_format = 'retina'\n",
    "\n",
    "import helper\n",
    "import numpy as np\n",
    "\n",
    "# Explore the dataset\n",
    "batch_id = 2\n",
    "sample_id = 1\n",
    "helper.display_stats(cifar10_dataset_folder_path, batch_id, sample_id)"
   ]
  },
  {
   "cell_type": "code",
   "execution_count": null,
   "metadata": {
    "collapsed": true,
    "deletable": true,
    "editable": true
   },
   "outputs": [],
   "source": [
    "\"\"\"\n",
    "Exploration notes\n",
    "\n",
    "Q: What are all possible labels?\n",
    "A: With our successfully trained network, we should be able to accept images as inputs and then\n",
    "classify the object the image contains. Hmm I'm guessing the labels will just be from 0-9 since we are looking at\n",
    "[airplane, automobile, bird, cat, deer, dog, frog, horse, ship, truck]. And we'll have to one hot encode these so\n",
    "they will end up looking something like this [0,0,0,1,0,0,0,0,0,0]. These should be it since these are the only\n",
    "labels present in our training set.\n",
    "\n",
    "Q: What is the range of values for the image data?\n",
    "A: The range should be that of 8-bit pixels (0 - 255)\n",
    "\n",
    "Q: Are the labels in order or random?\n",
    "A: I think the order of the labels should match the order of the training data right? Otherwise they aren't very\n",
    "helpful when we train.\n",
    "\n",
    "Q: Is this going to be cool when we're done?\n",
    "A: Very much so, this is gonna be awesome.\n",
    "\n",
    "\"\"\""
   ]
  },
  {
   "cell_type": "markdown",
   "metadata": {
    "deletable": true,
    "editable": true
   },
   "source": [
    "## Implement Preprocess Functions\n",
    "### Normalize\n",
    "In the cell below, implement the `normalize` function to take in image data, `x`, and return it as a normalized Numpy array. The values should be in the range of 0 to 1, inclusive.  The return object should be the same shape as `x`."
   ]
  },
  {
   "cell_type": "code",
   "execution_count": 228,
   "metadata": {
    "collapsed": false,
    "deletable": true,
    "editable": true
   },
   "outputs": [
    {
     "name": "stdout",
     "output_type": "stream",
     "text": [
      "Tests Passed\n"
     ]
    }
   ],
   "source": [
    "def normalize(x):\n",
    "    \"\"\"\n",
    "    Normalize a list of sample image data in the range of 0 to 1\n",
    "    : x: List of image data.  The image shape is (32, 32, 3)\n",
    "    : return: Numpy array of normalize data\n",
    "    \"\"\"\n",
    "    # TODO: Implement Function\n",
    "    # Normalize by max possible value, which should be 255\n",
    "    return x / 255\n",
    "\n",
    "\n",
    "\"\"\"\n",
    "DON'T MODIFY ANYTHING IN THIS CELL THAT IS BELOW THIS LINE\n",
    "\"\"\"\n",
    "tests.test_normalize(normalize)"
   ]
  },
  {
   "cell_type": "markdown",
   "metadata": {
    "deletable": true,
    "editable": true
   },
   "source": [
    "### One-hot encode\n",
    "Just like the previous code cell, you'll be implementing a function for preprocessing.  This time, you'll implement the `one_hot_encode` function. The input, `x`, are a list of labels.  Implement the function to return the list of labels as One-Hot encoded Numpy array.  The possible values for labels are 0 to 9. The one-hot encoding function should return the same encoding for each value between each call to `one_hot_encode`.  Make sure to save the map of encodings outside the function.\n",
    "\n",
    "Hint: Don't reinvent the wheel."
   ]
  },
  {
   "cell_type": "code",
   "execution_count": 229,
   "metadata": {
    "collapsed": false,
    "deletable": true,
    "editable": true
   },
   "outputs": [
    {
     "name": "stdout",
     "output_type": "stream",
     "text": [
      "Tests Passed\n"
     ]
    }
   ],
   "source": [
    "def one_hot_encode(x):\n",
    "    \"\"\"\n",
    "    One hot encode a list of sample labels. Return a one-hot encoded vector for each label.\n",
    "    : x: List of sample Labels\n",
    "    : return: Numpy array of one-hot encoded labels\n",
    "    \"\"\"\n",
    "    # TODO: Implement Function\n",
    "    return np.eye(10)[x]\n",
    "\n",
    "\n",
    "\"\"\"\n",
    "DON'T MODIFY ANYTHING IN THIS CELL THAT IS BELOW THIS LINE\n",
    "\"\"\"\n",
    "tests.test_one_hot_encode(one_hot_encode)"
   ]
  },
  {
   "cell_type": "markdown",
   "metadata": {
    "deletable": true,
    "editable": true
   },
   "source": [
    "### Randomize Data\n",
    "As you saw from exploring the data above, the order of the samples are randomized.  It doesn't hurt to randomize it again, but you don't need to for this dataset."
   ]
  },
  {
   "cell_type": "markdown",
   "metadata": {
    "deletable": true,
    "editable": true
   },
   "source": [
    "## Preprocess all the data and save it\n",
    "Running the code cell below will preprocess all the CIFAR-10 data and save it to file. The code below also uses 10% of the training data for validation."
   ]
  },
  {
   "cell_type": "code",
   "execution_count": 230,
   "metadata": {
    "collapsed": false,
    "deletable": true,
    "editable": true
   },
   "outputs": [],
   "source": [
    "\"\"\"\n",
    "DON'T MODIFY ANYTHING IN THIS CELL\n",
    "\"\"\"\n",
    "# Preprocess Training, Validation, and Testing Data\n",
    "helper.preprocess_and_save_data(cifar10_dataset_folder_path, normalize, one_hot_encode)"
   ]
  },
  {
   "cell_type": "markdown",
   "metadata": {
    "deletable": true,
    "editable": true
   },
   "source": [
    "# Check Point\n",
    "This is your first checkpoint.  If you ever decide to come back to this notebook or have to restart the notebook, you can start from here.  The preprocessed data has been saved to disk."
   ]
  },
  {
   "cell_type": "code",
   "execution_count": 231,
   "metadata": {
    "collapsed": false,
    "deletable": true,
    "editable": true
   },
   "outputs": [],
   "source": [
    "\"\"\"\n",
    "DON'T MODIFY ANYTHING IN THIS CELL\n",
    "\"\"\"\n",
    "import pickle\n",
    "import problem_unittests as tests\n",
    "import helper\n",
    "\n",
    "# Load the Preprocessed Validation data\n",
    "valid_features, valid_labels = pickle.load(open('preprocess_validation.p', mode='rb'))"
   ]
  },
  {
   "cell_type": "markdown",
   "metadata": {
    "deletable": true,
    "editable": true
   },
   "source": [
    "## Build the network\n",
    "For the neural network, you'll build each layer into a function.  Most of the code you've seen has been outside of functions. To test your code more thoroughly, we require that you put each layer in a function.  This allows us to give you better feedback and test for simple mistakes using our unittests before you submit your project.\n",
    "\n",
    ">**Note:** If you're finding it hard to dedicate enough time for this course each week, we've provided a small shortcut to this part of the project. In the next couple of problems, you'll have the option to use classes from the [TensorFlow Layers](https://www.tensorflow.org/api_docs/python/tf/layers) or [TensorFlow Layers (contrib)](https://www.tensorflow.org/api_guides/python/contrib.layers) packages to build each layer, except the layers you build in the \"Convolutional and Max Pooling Layer\" section.  TF Layers is similar to Keras's and TFLearn's abstraction to layers, so it's easy to pickup.\n",
    "\n",
    ">However, if you would like to get the most out of this course, try to solve all the problems _without_ using anything from the TF Layers packages. You **can** still use classes from other packages that happen to have the same name as ones you find in TF Layers! For example, instead of using the TF Layers version of the `conv2d` class, [tf.layers.conv2d](https://www.tensorflow.org/api_docs/python/tf/layers/conv2d), you would want to use the TF Neural Network version of `conv2d`, [tf.nn.conv2d](https://www.tensorflow.org/api_docs/python/tf/nn/conv2d). \n",
    "\n",
    "Let's begin!\n",
    "\n",
    "### Input\n",
    "The neural network needs to read the image data, one-hot encoded labels, and dropout keep probability. Implement the following functions\n",
    "* Implement `neural_net_image_input`\n",
    " * Return a [TF Placeholder](https://www.tensorflow.org/api_docs/python/tf/placeholder)\n",
    " * Set the shape using `image_shape` with batch size set to `None`.\n",
    " * Name the TensorFlow placeholder \"x\" using the TensorFlow `name` parameter in the [TF Placeholder](https://www.tensorflow.org/api_docs/python/tf/placeholder).\n",
    "* Implement `neural_net_label_input`\n",
    " * Return a [TF Placeholder](https://www.tensorflow.org/api_docs/python/tf/placeholder)\n",
    " * Set the shape using `n_classes` with batch size set to `None`.\n",
    " * Name the TensorFlow placeholder \"y\" using the TensorFlow `name` parameter in the [TF Placeholder](https://www.tensorflow.org/api_docs/python/tf/placeholder).\n",
    "* Implement `neural_net_keep_prob_input`\n",
    " * Return a [TF Placeholder](https://www.tensorflow.org/api_docs/python/tf/placeholder) for dropout keep probability.\n",
    " * Name the TensorFlow placeholder \"keep_prob\" using the TensorFlow `name` parameter in the [TF Placeholder](https://www.tensorflow.org/api_docs/python/tf/placeholder).\n",
    "\n",
    "These names will be used at the end of the project to load your saved model.\n",
    "\n",
    "Note: `None` for shapes in TensorFlow allow for a dynamic size."
   ]
  },
  {
   "cell_type": "code",
   "execution_count": 232,
   "metadata": {
    "collapsed": false,
    "deletable": true,
    "editable": true
   },
   "outputs": [
    {
     "name": "stdout",
     "output_type": "stream",
     "text": [
      "Image Input Tests Passed.\n",
      "Label Input Tests Passed.\n",
      "Keep Prob Tests Passed.\n"
     ]
    }
   ],
   "source": [
    "import tensorflow as tf\n",
    "\n",
    "def neural_net_image_input(image_shape):\n",
    "    \"\"\"\n",
    "    Return a Tensor for a batch of image input\n",
    "    : image_shape: Shape of the images\n",
    "    : return: Tensor for image input.\n",
    "    \"\"\"\n",
    "    # TODO: Implement Function\n",
    "    inp_shape = list(image_shape)\n",
    "    inp_shape.insert(0, None)\n",
    "    return tf.placeholder(tf.float32, shape=inp_shape, name=\"x\")\n",
    "\n",
    "\n",
    "def neural_net_label_input(n_classes):\n",
    "    \"\"\"\n",
    "    Return a Tensor for a batch of label input\n",
    "    : n_classes: Number of classes\n",
    "    : return: Tensor for label input.\n",
    "    \"\"\"\n",
    "    # TODO: Implement Function\n",
    "    return tf.placeholder(tf.float32, shape=[None, n_classes], name=\"y\")\n",
    "\n",
    "\n",
    "def neural_net_keep_prob_input():\n",
    "    \"\"\"\n",
    "    Return a Tensor for keep probability\n",
    "    : return: Tensor for keep probability.\n",
    "    \"\"\"\n",
    "    # TODO: Implement Function\n",
    "    return tf.placeholder(tf.float32, name=\"keep_prob\")\n",
    "\n",
    "\n",
    "\"\"\"\n",
    "DON'T MODIFY ANYTHING IN THIS CELL THAT IS BELOW THIS LINE\n",
    "\"\"\"\n",
    "tf.reset_default_graph()\n",
    "tests.test_nn_image_inputs(neural_net_image_input)\n",
    "tests.test_nn_label_inputs(neural_net_label_input)\n",
    "tests.test_nn_keep_prob_inputs(neural_net_keep_prob_input)"
   ]
  },
  {
   "cell_type": "markdown",
   "metadata": {
    "deletable": true,
    "editable": true
   },
   "source": [
    "### Convolution and Max Pooling Layer\n",
    "Convolution layers have a lot of success with images. For this code cell, you should implement the function `conv2d_maxpool` to apply convolution then max pooling:\n",
    "* Create the weight and bias using `conv_ksize`, `conv_num_outputs` and the shape of `x_tensor`.\n",
    "* Apply a convolution to `x_tensor` using weight and `conv_strides`.\n",
    " * We recommend you use same padding, but you're welcome to use any padding.\n",
    "* Add bias\n",
    "* Add a nonlinear activation to the convolution.\n",
    "* Apply Max Pooling using `pool_ksize` and `pool_strides`.\n",
    " * We recommend you use same padding, but you're welcome to use any padding.\n",
    "\n",
    "**Note:** You **can't** use [TensorFlow Layers](https://www.tensorflow.org/api_docs/python/tf/layers) or [TensorFlow Layers (contrib)](https://www.tensorflow.org/api_guides/python/contrib.layers) for **this** layer, but you can still use TensorFlow's [Neural Network](https://www.tensorflow.org/api_docs/python/tf/nn) package. You may still use the shortcut option for all the **other** layers."
   ]
  },
  {
   "cell_type": "code",
   "execution_count": 279,
   "metadata": {
    "collapsed": false,
    "deletable": true,
    "editable": true
   },
   "outputs": [
    {
     "name": "stdout",
     "output_type": "stream",
     "text": [
      "Tests Passed\n"
     ]
    }
   ],
   "source": [
    "def conv2d_maxpool(x_tensor, conv_num_outputs, conv_ksize, conv_strides, pool_ksize, pool_strides):\n",
    "    \"\"\"\n",
    "    Apply convolution then max pooling to x_tensor\n",
    "    :param x_tensor: TensorFlow Tensor\n",
    "    :param conv_num_outputs: Number of outputs for the convolutional layer\n",
    "    :param conv_ksize: kernal size 2-D Tuple for the convolutional layer\n",
    "    :param conv_strides: Stride 2-D Tuple for convolution\n",
    "    :param pool_ksize: kernal size 2-D Tuple for pool\n",
    "    :param pool_strides: Stride 2-D Tuple for pool\n",
    "    : return: A tensor that represents convolution and max pooling of x_tensor\n",
    "    \"\"\"\n",
    "    # TODO: Implement Function\n",
    "\n",
    "    x_shape = x_tensor.get_shape().as_list()\n",
    "    k_h, k_w = conv_ksize\n",
    "    conv_stride_h, conv_stride_w = conv_strides\n",
    "    pk_h, pk_w = pool_ksize\n",
    "    ps_h, ps_w = pool_strides\n",
    "    \n",
    "    W = tf.Variable(tf.truncated_normal([k_h, k_w, x_shape[-1], conv_num_outputs], stddev=0.1))\n",
    "    b = tf.Variable(tf.zeros(conv_num_outputs))\n",
    "    # tf.nn.conv2d(input, filter, strides, padding, use_cudnn_on_gpu=None, data_format=None, name=None)\n",
    "    conv = tf.nn.conv2d(x_tensor, W, strides=[1, conv_stride_h, conv_stride_w, 1], padding='SAME')\n",
    "    # add bias\n",
    "    conv = tf.nn.bias_add(conv, b)\n",
    "    # add nonlinear activation\n",
    "    conv = tf.nn.relu(conv)\n",
    "    # add pooling\n",
    "    # tf.nn.max_pool(value, ksize, strides, padding, data_format='NHWC', name=None)\n",
    "    conv = tf.nn.max_pool(conv, ksize=[1, pk_h, pk_w, 1], strides=[1, ps_h, ps_w, 1], padding='SAME')\n",
    "    \n",
    "    return conv\n",
    "\n",
    "\"\"\"\n",
    "DON'T MODIFY ANYTHING IN THIS CELL THAT IS BELOW THIS LINE\n",
    "\"\"\"\n",
    "tests.test_con_pool(conv2d_maxpool)"
   ]
  },
  {
   "cell_type": "markdown",
   "metadata": {
    "deletable": true,
    "editable": true
   },
   "source": [
    "### Flatten Layer\n",
    "Implement the `flatten` function to change the dimension of `x_tensor` from a 4-D tensor to a 2-D tensor.  The output should be the shape (*Batch Size*, *Flattened Image Size*). Shortcut option: you can use classes from the [TensorFlow Layers](https://www.tensorflow.org/api_docs/python/tf/layers) or [TensorFlow Layers (contrib)](https://www.tensorflow.org/api_guides/python/contrib.layers) packages for this layer. For more of a challenge, only use other TensorFlow packages."
   ]
  },
  {
   "cell_type": "code",
   "execution_count": 280,
   "metadata": {
    "collapsed": false,
    "deletable": true,
    "editable": true
   },
   "outputs": [
    {
     "name": "stdout",
     "output_type": "stream",
     "text": [
      "Tests Passed\n"
     ]
    }
   ],
   "source": [
    "def flatten(x_tensor):\n",
    "    \"\"\"\n",
    "    Flatten x_tensor to (Batch Size, Flattened Image Size)\n",
    "    : x_tensor: A tensor of size (Batch Size, ...), where ... are the image dimensions.\n",
    "    : return: A tensor of size (Batch Size, Flattened Image Size).\n",
    "    \"\"\"\n",
    "    # TODO: Implement Function\n",
    "    b, h, w, d = x_tensor.get_shape().as_list()\n",
    "    return tf.reshape(x_tensor, [-1, w*h*d])\n",
    "\n",
    "\n",
    "\"\"\"\n",
    "DON'T MODIFY ANYTHING IN THIS CELL THAT IS BELOW THIS LINE\n",
    "\"\"\"\n",
    "tests.test_flatten(flatten)"
   ]
  },
  {
   "cell_type": "markdown",
   "metadata": {
    "deletable": true,
    "editable": true
   },
   "source": [
    "### Fully-Connected Layer\n",
    "Implement the `fully_conn` function to apply a fully connected layer to `x_tensor` with the shape (*Batch Size*, *num_outputs*). Shortcut option: you can use classes from the [TensorFlow Layers](https://www.tensorflow.org/api_docs/python/tf/layers) or [TensorFlow Layers (contrib)](https://www.tensorflow.org/api_guides/python/contrib.layers) packages for this layer. For more of a challenge, only use other TensorFlow packages."
   ]
  },
  {
   "cell_type": "code",
   "execution_count": 281,
   "metadata": {
    "collapsed": false,
    "deletable": true,
    "editable": true
   },
   "outputs": [
    {
     "name": "stdout",
     "output_type": "stream",
     "text": [
      "Tests Passed\n"
     ]
    }
   ],
   "source": [
    "def fully_conn(x_tensor, num_outputs):\n",
    "    \"\"\"\n",
    "    Apply a fully connected layer to x_tensor using weight and bias\n",
    "    : x_tensor: A 2-D tensor where the first dimension is batch size.\n",
    "    : num_outputs: The number of output that the new tensor should be.\n",
    "    : return: A 2-D tensor where the second dimension is num_outputs.\n",
    "    \"\"\"\n",
    "    # TODO: Implement Function\n",
    "    x_h, x_w = x_tensor.get_shape().as_list()\n",
    "    W = tf.Variable(tf.truncated_normal([x_w, num_outputs], stddev=0.1))\n",
    "    b = tf.Variable(tf.truncated_normal([num_outputs]))\n",
    "    \n",
    "    return tf.nn.relu(tf.matmul(x_tensor, W) + b)\n",
    "\n",
    "\n",
    "\"\"\"\n",
    "DON'T MODIFY ANYTHING IN THIS CELL THAT IS BELOW THIS LINE\n",
    "\"\"\"\n",
    "tests.test_fully_conn(fully_conn)"
   ]
  },
  {
   "cell_type": "markdown",
   "metadata": {
    "deletable": true,
    "editable": true
   },
   "source": [
    "### Output Layer\n",
    "Implement the `output` function to apply a fully connected layer to `x_tensor` with the shape (*Batch Size*, *num_outputs*). Shortcut option: you can use classes from the [TensorFlow Layers](https://www.tensorflow.org/api_docs/python/tf/layers) or [TensorFlow Layers (contrib)](https://www.tensorflow.org/api_guides/python/contrib.layers) packages for this layer. For more of a challenge, only use other TensorFlow packages.\n",
    "\n",
    "**Note:** Activation, softmax, or cross entropy should **not** be applied to this."
   ]
  },
  {
   "cell_type": "code",
   "execution_count": 282,
   "metadata": {
    "collapsed": false,
    "deletable": true,
    "editable": true
   },
   "outputs": [
    {
     "name": "stdout",
     "output_type": "stream",
     "text": [
      "Tests Passed\n"
     ]
    }
   ],
   "source": [
    "def output(x_tensor, num_outputs):\n",
    "    \"\"\"\n",
    "    Apply a output layer to x_tensor using weight and bias\n",
    "    : x_tensor: A 2-D tensor where the first dimension is batch size.\n",
    "    : num_outputs: The number of output that the new tensor should be.\n",
    "    : return: A 2-D tensor where the second dimension is num_outputs.\n",
    "    \"\"\"\n",
    "    x_h, x_w = x_tensor.get_shape().as_list()\n",
    "    W = tf.Variable(tf.truncated_normal([x_w, num_outputs]))\n",
    "    b = tf.Variable(tf.truncated_normal([num_outputs]))\n",
    "    \n",
    "    return tf.matmul(x_tensor, W) + b\n",
    "\n",
    "\n",
    "\"\"\"\n",
    "DON'T MODIFY ANYTHING IN THIS CELL THAT IS BELOW THIS LINE\n",
    "\"\"\"\n",
    "tests.test_output(output)"
   ]
  },
  {
   "cell_type": "markdown",
   "metadata": {
    "deletable": true,
    "editable": true
   },
   "source": [
    "### Create Convolutional Model\n",
    "Implement the function `conv_net` to create a convolutional neural network model. The function takes in a batch of images, `x`, and outputs logits.  Use the layers you created above to create this model:\n",
    "\n",
    "* Apply 1, 2, or 3 Convolution and Max Pool layers\n",
    "* Apply a Flatten Layer\n",
    "* Apply 1, 2, or 3 Fully Connected Layers\n",
    "* Apply an Output Layer\n",
    "* Return the output\n",
    "* Apply [TensorFlow's Dropout](https://www.tensorflow.org/api_docs/python/tf/nn/dropout) to one or more layers in the model using `keep_prob`. "
   ]
  },
  {
   "cell_type": "code",
   "execution_count": 300,
   "metadata": {
    "collapsed": false,
    "deletable": true,
    "editable": true
   },
   "outputs": [
    {
     "name": "stdout",
     "output_type": "stream",
     "text": [
      "(?, 32, 32, 3)\n",
      "(?, 16, 16, 20)\n",
      "(?, 8, 8, 50)\n",
      "(?, 4, 4, 100)\n",
      "_________________\n",
      "(?, 32, 32, 3)\n",
      "(?, 16, 16, 20)\n",
      "(?, 8, 8, 50)\n",
      "(?, 4, 4, 100)\n",
      "_________________\n",
      "Neural Network Built!\n"
     ]
    }
   ],
   "source": [
    "def conv_net(x, keep_prob):\n",
    "    \"\"\"\n",
    "    Create a convolutional neural network model\n",
    "    : x: Placeholder tensor that holds image data.\n",
    "    : keep_prob: Placeholder tensor that hold dropout keep probability.\n",
    "    : return: Tensor that represents logits\n",
    "    \"\"\"\n",
    "    # TODO: Apply 1, 2, or 3 Convolution and Max Pool layers\n",
    "    #    Play around with different number of outputs, kernel size and stride\n",
    "    # Function Definition from Above:\n",
    "    #    conv2d_maxpool(x_tensor, conv_num_outputs, conv_ksize, conv_strides, pool_ksize, pool_strides)\n",
    "\n",
    "    print(x.get_shape())\n",
    "    convL_1 = conv2d_maxpool(x,       20, (4, 4), (1, 1), (2, 2), (2, 2))\n",
    "    print(convL_1.get_shape())\n",
    "    convL_2 = conv2d_maxpool(convL_1, 50, (4, 4), (1, 1), (2, 2), (2, 2))\n",
    "    print(convL_2.get_shape())\n",
    "    convL_3 = conv2d_maxpool(convL_2, 100, (2, 2), (1, 1), (2, 2), (2, 2))\n",
    "    print(convL_3.get_shape())\n",
    "    print(\"_________________\")\n",
    "\n",
    "    # TODO: Apply a Flatten Layer\n",
    "    # Function Definition from Above:\n",
    "    #   flatten(x_tensor)\n",
    "    flattenL_1 = flatten(convL_2)\n",
    "\n",
    "    # TODO: Apply 1, 2, or 3 Fully Connected Layers\n",
    "    #    Play around with different number of outputs\n",
    "    # Function Definition from Above:\n",
    "    #   fully_conn(x_tensor, num_outputs)\n",
    "\n",
    "    fullL_1 = fully_conn(flattenL_1, 100)\n",
    "    fullL_2 = fully_conn(fullL_1, 200)\n",
    "\n",
    "    dropoutL = tf.nn.dropout(fullL_2, keep_prob)\n",
    "\n",
    "    # TODO: Apply an Output Layer\n",
    "    #    Set this to the number of classes\n",
    "    # Function Definition from Above:\n",
    "    #   output(x_tensor, num_outputs)\n",
    "\n",
    "    outputL = output(dropoutL, 10)\n",
    "\n",
    "    # TODO: return output\n",
    "    return outputL\n",
    "\n",
    "\n",
    "\"\"\"\n",
    "DON'T MODIFY ANYTHING IN THIS CELL THAT IS BELOW THIS LINE\n",
    "\"\"\"\n",
    "\n",
    "##############################\n",
    "## Build the Neural Network ##\n",
    "##############################\n",
    "\n",
    "# Remove previous weights, bias, inputs, etc..\n",
    "tf.reset_default_graph()\n",
    "\n",
    "# Inputs\n",
    "x = neural_net_image_input((32, 32, 3))\n",
    "y = neural_net_label_input(10)\n",
    "keep_prob = neural_net_keep_prob_input()\n",
    "\n",
    "# Model\n",
    "logits = conv_net(x, keep_prob)\n",
    "\n",
    "# Name logits Tensor, so that is can be loaded from disk after training\n",
    "logits = tf.identity(logits, name='logits')\n",
    "\n",
    "# Loss and Optimizer\n",
    "cost = tf.reduce_mean(tf.nn.softmax_cross_entropy_with_logits(logits=logits, labels=y))\n",
    "optimizer = tf.train.AdamOptimizer().minimize(cost)\n",
    "\n",
    "# Accuracy\n",
    "correct_pred = tf.equal(tf.argmax(logits, 1), tf.argmax(y, 1))\n",
    "accuracy = tf.reduce_mean(tf.cast(correct_pred, tf.float32), name='accuracy')\n",
    "\n",
    "tests.test_conv_net(conv_net)"
   ]
  },
  {
   "cell_type": "markdown",
   "metadata": {
    "deletable": true,
    "editable": true
   },
   "source": [
    "## Train the Neural Network\n",
    "### Single Optimization\n",
    "Implement the function `train_neural_network` to do a single optimization.  The optimization should use `optimizer` to optimize in `session` with a `feed_dict` of the following:\n",
    "* `x` for image input\n",
    "* `y` for labels\n",
    "* `keep_prob` for keep probability for dropout\n",
    "\n",
    "This function will be called for each batch, so `tf.global_variables_initializer()` has already been called.\n",
    "\n",
    "Note: Nothing needs to be returned. This function is only optimizing the neural network."
   ]
  },
  {
   "cell_type": "code",
   "execution_count": 301,
   "metadata": {
    "collapsed": false,
    "deletable": true,
    "editable": true
   },
   "outputs": [
    {
     "name": "stdout",
     "output_type": "stream",
     "text": [
      "Tests Passed\n"
     ]
    }
   ],
   "source": [
    "def train_neural_network(session, optimizer, keep_probability, feature_batch, label_batch):\n",
    "    \"\"\"\n",
    "    Optimize the session on a batch of images and labels\n",
    "    : session: Current TensorFlow session\n",
    "    : optimizer: TensorFlow optimizer function\n",
    "    : keep_probability: keep probability\n",
    "    : feature_batch: Batch of Numpy image data\n",
    "    : label_batch: Batch of Numpy label data\n",
    "    \"\"\"\n",
    "    session.run(optimizer, feed_dict={x: feature_batch, y: label_batch, keep_prob: keep_probability})\n",
    "\n",
    "\n",
    "\"\"\"\n",
    "DON'T MODIFY ANYTHING IN THIS CELL THAT IS BELOW THIS LINE\n",
    "\"\"\"\n",
    "tests.test_train_nn(train_neural_network)"
   ]
  },
  {
   "cell_type": "markdown",
   "metadata": {
    "deletable": true,
    "editable": true
   },
   "source": [
    "### Show Stats\n",
    "Implement the function `print_stats` to print loss and validation accuracy.  Use the global variables `valid_features` and `valid_labels` to calculate validation accuracy.  Use a keep probability of `1.0` to calculate the loss and validation accuracy."
   ]
  },
  {
   "cell_type": "code",
   "execution_count": 307,
   "metadata": {
    "collapsed": false,
    "deletable": true,
    "editable": true
   },
   "outputs": [],
   "source": [
    "def print_stats(session, feature_batch, label_batch, cost, accuracy):\n",
    "    \"\"\"\n",
    "    Print information about loss and validation accuracy\n",
    "    : session: Current TensorFlow session\n",
    "    : feature_batch: Batch of Numpy image data\n",
    "    : label_batch: Batch of Numpy label data\n",
    "    : cost: TensorFlow cost function\n",
    "    : accuracy: TensorFlow accuracy function\n",
    "    \"\"\"\n",
    "    \n",
    "    loss = session.run(cost, feed_dict={x: feature_batch, y: label_batch, keep_prob: 1.0})\n",
    "    acc = session.run(accuracy,  feed_dict={x: valid_features, y: valid_labels, keep_prob: 1.0})\n",
    "    print(\"validation (accuracy, loss): (%g, %g)\" % (acc, loss))\n",
    "    "
   ]
  },
  {
   "cell_type": "markdown",
   "metadata": {
    "deletable": true,
    "editable": true
   },
   "source": [
    "### Hyperparameters\n",
    "Tune the following parameters:\n",
    "* Set `epochs` to the number of iterations until the network stops learning or start overfitting\n",
    "* Set `batch_size` to the highest number that your machine has memory for.  Most people set them to common sizes of memory:\n",
    " * 64\n",
    " * 128\n",
    " * 256\n",
    " * ...\n",
    "* Set `keep_probability` to the probability of keeping a node using dropout"
   ]
  },
  {
   "cell_type": "code",
   "execution_count": 305,
   "metadata": {
    "collapsed": true,
    "deletable": true,
    "editable": true
   },
   "outputs": [],
   "source": [
    "# TODO: Tune Parameters\n",
    "epochs = 50\n",
    "batch_size = 256\n",
    "keep_probability = 0.5"
   ]
  },
  {
   "cell_type": "markdown",
   "metadata": {
    "deletable": true,
    "editable": true
   },
   "source": [
    "### Train on a Single CIFAR-10 Batch\n",
    "Instead of training the neural network on all the CIFAR-10 batches of data, let's use a single batch. This should save time while you iterate on the model to get a better accuracy.  Once the final validation accuracy is 50% or greater, run the model on all the data in the next section."
   ]
  },
  {
   "cell_type": "code",
   "execution_count": 304,
   "metadata": {
    "collapsed": false,
    "deletable": true,
    "editable": true
   },
   "outputs": [
    {
     "name": "stdout",
     "output_type": "stream",
     "text": [
      "Checking the Training on a Single Batch...\n",
      "Epoch  1, CIFAR-10 Batch 1:  validation (accuracy, loss): (0.2234, 2.13086) | \n",
      "Epoch  2, CIFAR-10 Batch 1:  validation (accuracy, loss): (0.2518, 2.0257) | \n",
      "Epoch  3, CIFAR-10 Batch 1:  validation (accuracy, loss): (0.3098, 1.91377) | \n",
      "Epoch  4, CIFAR-10 Batch 1:  validation (accuracy, loss): (0.355, 1.76878) | \n",
      "Epoch  5, CIFAR-10 Batch 1:  validation (accuracy, loss): (0.3616, 1.68361) | \n",
      "Epoch  6, CIFAR-10 Batch 1:  validation (accuracy, loss): (0.382, 1.66626) | \n",
      "Epoch  7, CIFAR-10 Batch 1:  validation (accuracy, loss): (0.396, 1.53305) | \n",
      "Epoch  8, CIFAR-10 Batch 1:  validation (accuracy, loss): (0.4364, 1.45625) | \n",
      "Epoch  9, CIFAR-10 Batch 1:  validation (accuracy, loss): (0.444, 1.39751) | \n",
      "Epoch 10, CIFAR-10 Batch 1:  validation (accuracy, loss): (0.4654, 1.25102) | \n",
      "Epoch 11, CIFAR-10 Batch 1:  validation (accuracy, loss): (0.4642, 1.2032) | \n",
      "Epoch 12, CIFAR-10 Batch 1:  validation (accuracy, loss): (0.4878, 1.17355) | \n",
      "Epoch 13, CIFAR-10 Batch 1:  validation (accuracy, loss): (0.508, 1.06714) | \n",
      "Epoch 14, CIFAR-10 Batch 1:  validation (accuracy, loss): (0.4946, 1.04056) | \n",
      "Epoch 15, CIFAR-10 Batch 1:  validation (accuracy, loss): (0.4954, 0.971923) | \n",
      "Epoch 16, CIFAR-10 Batch 1:  validation (accuracy, loss): (0.4986, 0.887193) | \n",
      "Epoch 17, CIFAR-10 Batch 1:  validation (accuracy, loss): (0.5134, 0.823955) | \n",
      "Epoch 18, CIFAR-10 Batch 1:  validation (accuracy, loss): (0.5236, 0.686399) | \n",
      "Epoch 19, CIFAR-10 Batch 1:  validation (accuracy, loss): (0.52, 0.659419) | \n",
      "Epoch 20, CIFAR-10 Batch 1:  validation (accuracy, loss): (0.534, 0.58866) | \n",
      "Epoch 21, CIFAR-10 Batch 1:  validation (accuracy, loss): (0.5418, 0.578675) | \n",
      "Epoch 22, CIFAR-10 Batch 1:  validation (accuracy, loss): (0.5496, 0.490675) | \n",
      "Epoch 23, CIFAR-10 Batch 1:  validation (accuracy, loss): (0.5482, 0.456059) | \n",
      "Epoch 24, CIFAR-10 Batch 1:  validation (accuracy, loss): (0.556, 0.410363) | \n",
      "Epoch 25, CIFAR-10 Batch 1:  validation (accuracy, loss): (0.5542, 0.381786) | \n",
      "Epoch 26, CIFAR-10 Batch 1:  validation (accuracy, loss): (0.5464, 0.367758) | \n",
      "Epoch 27, CIFAR-10 Batch 1:  validation (accuracy, loss): (0.5496, 0.298423) | \n",
      "Epoch 28, CIFAR-10 Batch 1:  validation (accuracy, loss): (0.5628, 0.290893) | \n",
      "Epoch 29, CIFAR-10 Batch 1:  validation (accuracy, loss): (0.5572, 0.265678) | \n",
      "Epoch 30, CIFAR-10 Batch 1:  validation (accuracy, loss): (0.552, 0.245148) | \n",
      "Epoch 31, CIFAR-10 Batch 1:  validation (accuracy, loss): (0.5416, 0.297744) | \n",
      "Epoch 32, CIFAR-10 Batch 1:  validation (accuracy, loss): (0.5704, 0.203123) | \n",
      "Epoch 33, CIFAR-10 Batch 1:  validation (accuracy, loss): (0.5486, 0.20627) | \n",
      "Epoch 34, CIFAR-10 Batch 1:  validation (accuracy, loss): (0.5722, 0.144038) | \n",
      "Epoch 35, CIFAR-10 Batch 1:  validation (accuracy, loss): (0.5754, 0.142543) | \n",
      "Epoch 36, CIFAR-10 Batch 1:  validation (accuracy, loss): (0.558, 0.158214) | \n",
      "Epoch 37, CIFAR-10 Batch 1:  validation (accuracy, loss): (0.5648, 0.106724) | \n",
      "Epoch 38, CIFAR-10 Batch 1:  validation (accuracy, loss): (0.568, 0.102646) | \n",
      "Epoch 39, CIFAR-10 Batch 1:  validation (accuracy, loss): (0.5588, 0.103093) | \n",
      "Epoch 40, CIFAR-10 Batch 1:  validation (accuracy, loss): (0.5318, 0.102324) | \n",
      "Epoch 41, CIFAR-10 Batch 1:  validation (accuracy, loss): (0.5686, 0.0752705) | \n",
      "Epoch 42, CIFAR-10 Batch 1:  validation (accuracy, loss): (0.5666, 0.0641875) | \n",
      "Epoch 43, CIFAR-10 Batch 1:  validation (accuracy, loss): (0.5686, 0.0508027) | \n",
      "Epoch 44, CIFAR-10 Batch 1:  validation (accuracy, loss): (0.575, 0.0419885) | \n",
      "Epoch 45, CIFAR-10 Batch 1:  validation (accuracy, loss): (0.5796, 0.0492736) | \n",
      "Epoch 46, CIFAR-10 Batch 1:  validation (accuracy, loss): (0.5714, 0.0536006) | \n",
      "Epoch 47, CIFAR-10 Batch 1:  validation (accuracy, loss): (0.5738, 0.0476664) | \n",
      "Epoch 48, CIFAR-10 Batch 1:  validation (accuracy, loss): (0.5718, 0.0440546) | \n",
      "Epoch 49, CIFAR-10 Batch 1:  validation (accuracy, loss): (0.5702, 0.0230441) | \n",
      "Epoch 50, CIFAR-10 Batch 1:  validation (accuracy, loss): (0.5726, 0.0249939) | \n",
      "Epoch 51, CIFAR-10 Batch 1:  validation (accuracy, loss): (0.5638, 0.0234544) | \n",
      "Epoch 52, CIFAR-10 Batch 1:  validation (accuracy, loss): (0.5658, 0.0273891) | \n",
      "Epoch 53, CIFAR-10 Batch 1:  validation (accuracy, loss): (0.536, 0.0371095) | \n",
      "Epoch 54, CIFAR-10 Batch 1:  validation (accuracy, loss): (0.5098, 0.0343062) | \n",
      "Epoch 55, CIFAR-10 Batch 1:  validation (accuracy, loss): (0.541, 0.0305235) | \n",
      "Epoch 56, CIFAR-10 Batch 1:  validation (accuracy, loss): (0.5684, 0.0197971) | \n",
      "Epoch 57, CIFAR-10 Batch 1:  validation (accuracy, loss): (0.5636, 0.0183325) | \n",
      "Epoch 58, CIFAR-10 Batch 1:  validation (accuracy, loss): (0.5706, 0.0107517) | \n",
      "Epoch 59, CIFAR-10 Batch 1:  validation (accuracy, loss): (0.563, 0.0174342) | \n",
      "Epoch 60, CIFAR-10 Batch 1:  validation (accuracy, loss): (0.5714, 0.0176683) | \n",
      "Epoch 61, CIFAR-10 Batch 1:  validation (accuracy, loss): (0.5636, 0.00780447) | \n",
      "Epoch 62, CIFAR-10 Batch 1:  validation (accuracy, loss): (0.5696, 0.0119353) | \n",
      "Epoch 63, CIFAR-10 Batch 1:  validation (accuracy, loss): (0.5574, 0.00855868) | \n",
      "Epoch 64, CIFAR-10 Batch 1:  validation (accuracy, loss): (0.5604, 0.0176073) | \n",
      "Epoch 65, CIFAR-10 Batch 1:  validation (accuracy, loss): (0.5558, 0.0140257) | \n",
      "Epoch 66, CIFAR-10 Batch 1:  validation (accuracy, loss): (0.5326, 0.00811745) | \n",
      "Epoch 67, CIFAR-10 Batch 1:  validation (accuracy, loss): (0.536, 0.0148095) | \n",
      "Epoch 68, CIFAR-10 Batch 1:  validation (accuracy, loss): (0.5542, 0.00637155) | \n",
      "Epoch 69, CIFAR-10 Batch 1:  validation (accuracy, loss): (0.5616, 0.00417016) | \n",
      "Epoch 70, CIFAR-10 Batch 1:  validation (accuracy, loss): (0.5406, 0.00961569) | \n",
      "Epoch 71, CIFAR-10 Batch 1:  validation (accuracy, loss): (0.5608, 0.00342933) | \n",
      "Epoch 72, CIFAR-10 Batch 1:  validation (accuracy, loss): (0.5716, 0.00279657) | \n",
      "Epoch 73, CIFAR-10 Batch 1:  validation (accuracy, loss): (0.5592, 0.00187809) | \n",
      "Epoch 74, CIFAR-10 Batch 1:  validation (accuracy, loss): (0.5432, 0.00512742) | \n",
      "Epoch 75, CIFAR-10 Batch 1:  validation (accuracy, loss): (0.5482, 0.00731982) | \n",
      "Epoch 76, CIFAR-10 Batch 1:  validation (accuracy, loss): (0.55, 0.00246901) | \n",
      "Epoch 77, CIFAR-10 Batch 1:  validation (accuracy, loss): (0.5556, 0.00201359) | \n",
      "Epoch 78, CIFAR-10 Batch 1:  validation (accuracy, loss): (0.5468, 0.00283629) | \n",
      "Epoch 79, CIFAR-10 Batch 1:  validation (accuracy, loss): (0.5472, 0.00126598) | \n",
      "Epoch 80, CIFAR-10 Batch 1:  validation (accuracy, loss): (0.5512, 0.000677684) | \n"
     ]
    }
   ],
   "source": [
    "\"\"\"\n",
    "DON'T MODIFY ANYTHING IN THIS CELL\n",
    "\"\"\"\n",
    "print('Checking the Training on a Single Batch...')\n",
    "with tf.Session() as sess:\n",
    "    # Initializing the variables\n",
    "    sess.run(tf.global_variables_initializer())\n",
    "    \n",
    "    # Training cycle\n",
    "    for epoch in range(epochs):\n",
    "        batch_i = 1\n",
    "        for batch_features, batch_labels in helper.load_preprocess_training_batch(batch_i, batch_size):\n",
    "            train_neural_network(sess, optimizer, keep_probability, batch_features, batch_labels)\n",
    "        print('Epoch {:>2}, CIFAR-10 Batch {}:  '.format(epoch + 1, batch_i), end='')\n",
    "        print_stats(sess, batch_features, batch_labels, cost, accuracy)"
   ]
  },
  {
   "cell_type": "markdown",
   "metadata": {
    "deletable": true,
    "editable": true
   },
   "source": [
    "### Fully Train the Model\n",
    "Now that you got a good accuracy with a single CIFAR-10 batch, try it with all five batches."
   ]
  },
  {
   "cell_type": "code",
   "execution_count": 306,
   "metadata": {
    "collapsed": false,
    "deletable": true,
    "editable": true
   },
   "outputs": [
    {
     "name": "stdout",
     "output_type": "stream",
     "text": [
      "Training...\n",
      "Epoch  1, CIFAR-10 Batch 1:  validation (accuracy, loss): (0.2228, 2.36045) | \n",
      "Epoch  1, CIFAR-10 Batch 2:  validation (accuracy, loss): (0.2464, 2.08016) | \n",
      "Epoch  1, CIFAR-10 Batch 3:  validation (accuracy, loss): (0.3068, 1.7266) | \n",
      "Epoch  1, CIFAR-10 Batch 4:  validation (accuracy, loss): (0.3344, 1.79793) | \n",
      "Epoch  1, CIFAR-10 Batch 5:  validation (accuracy, loss): (0.3834, 1.70371) | \n",
      "Epoch  2, CIFAR-10 Batch 1:  validation (accuracy, loss): (0.4112, 1.83517) | \n",
      "Epoch  2, CIFAR-10 Batch 2:  validation (accuracy, loss): (0.438, 1.51058) | \n",
      "Epoch  2, CIFAR-10 Batch 3:  validation (accuracy, loss): (0.4058, 1.43092) | \n",
      "Epoch  2, CIFAR-10 Batch 4:  validation (accuracy, loss): (0.4478, 1.42549) | \n",
      "Epoch  2, CIFAR-10 Batch 5:  validation (accuracy, loss): (0.46, 1.48012) | \n",
      "Epoch  3, CIFAR-10 Batch 1:  validation (accuracy, loss): (0.4732, 1.55375) | \n",
      "Epoch  3, CIFAR-10 Batch 2:  validation (accuracy, loss): (0.4954, 1.24807) | \n",
      "Epoch  3, CIFAR-10 Batch 3:  validation (accuracy, loss): (0.4836, 1.1071) | \n",
      "Epoch  3, CIFAR-10 Batch 4:  validation (accuracy, loss): (0.5058, 1.17962) | \n",
      "Epoch  3, CIFAR-10 Batch 5:  validation (accuracy, loss): (0.4992, 1.23383) | \n",
      "Epoch  4, CIFAR-10 Batch 1:  validation (accuracy, loss): (0.5024, 1.39056) | \n",
      "Epoch  4, CIFAR-10 Batch 2:  validation (accuracy, loss): (0.52, 1.09429) | \n",
      "Epoch  4, CIFAR-10 Batch 3:  validation (accuracy, loss): (0.533, 1.05868) | \n",
      "Epoch  4, CIFAR-10 Batch 4:  validation (accuracy, loss): (0.529, 1.04374) | \n",
      "Epoch  4, CIFAR-10 Batch 5:  validation (accuracy, loss): (0.535, 1.07514) | \n",
      "Epoch  5, CIFAR-10 Batch 1:  validation (accuracy, loss): (0.5326, 1.24502) | \n",
      "Epoch  5, CIFAR-10 Batch 2:  validation (accuracy, loss): (0.5366, 0.972815) | \n",
      "Epoch  5, CIFAR-10 Batch 3:  validation (accuracy, loss): (0.5514, 0.865677) | \n",
      "Epoch  5, CIFAR-10 Batch 4:  validation (accuracy, loss): (0.5748, 0.894446) | \n",
      "Epoch  5, CIFAR-10 Batch 5:  validation (accuracy, loss): (0.5658, 0.986276) | \n",
      "Epoch  6, CIFAR-10 Batch 1:  validation (accuracy, loss): (0.557, 1.083) | \n",
      "Epoch  6, CIFAR-10 Batch 2:  validation (accuracy, loss): (0.5532, 0.834462) | \n",
      "Epoch  6, CIFAR-10 Batch 3:  validation (accuracy, loss): (0.5886, 0.666109) | \n",
      "Epoch  6, CIFAR-10 Batch 4:  validation (accuracy, loss): (0.5874, 0.864836) | \n",
      "Epoch  6, CIFAR-10 Batch 5:  validation (accuracy, loss): (0.5954, 0.764713) | \n",
      "Epoch  7, CIFAR-10 Batch 1:  validation (accuracy, loss): (0.5704, 0.94946) | \n",
      "Epoch  7, CIFAR-10 Batch 2:  validation (accuracy, loss): (0.5834, 0.74308) | \n",
      "Epoch  7, CIFAR-10 Batch 3:  validation (accuracy, loss): (0.599, 0.603703) | \n",
      "Epoch  7, CIFAR-10 Batch 4:  validation (accuracy, loss): (0.6078, 0.750835) | \n",
      "Epoch  7, CIFAR-10 Batch 5:  validation (accuracy, loss): (0.6078, 0.661544) | \n",
      "Epoch  8, CIFAR-10 Batch 1:  validation (accuracy, loss): (0.597, 0.773736) | \n",
      "Epoch  8, CIFAR-10 Batch 2:  validation (accuracy, loss): (0.6038, 0.602935) | \n",
      "Epoch  8, CIFAR-10 Batch 3:  validation (accuracy, loss): (0.599, 0.543761) | \n",
      "Epoch  8, CIFAR-10 Batch 4:  validation (accuracy, loss): (0.6172, 0.70495) | \n",
      "Epoch  8, CIFAR-10 Batch 5:  validation (accuracy, loss): (0.6178, 0.625847) | \n",
      "Epoch  9, CIFAR-10 Batch 1:  validation (accuracy, loss): (0.5936, 0.721914) | \n",
      "Epoch  9, CIFAR-10 Batch 2:  validation (accuracy, loss): (0.6134, 0.541053) | \n",
      "Epoch  9, CIFAR-10 Batch 3:  validation (accuracy, loss): (0.6172, 0.414095) | \n",
      "Epoch  9, CIFAR-10 Batch 4:  validation (accuracy, loss): (0.6272, 0.590198) | \n",
      "Epoch  9, CIFAR-10 Batch 5:  validation (accuracy, loss): (0.6394, 0.473945) | \n",
      "Epoch 10, CIFAR-10 Batch 1:  validation (accuracy, loss): (0.5986, 0.701015) | \n",
      "Epoch 10, CIFAR-10 Batch 2:  validation (accuracy, loss): (0.62, 0.494608) | \n",
      "Epoch 10, CIFAR-10 Batch 3:  validation (accuracy, loss): (0.626, 0.393674) | \n",
      "Epoch 10, CIFAR-10 Batch 4:  validation (accuracy, loss): (0.6336, 0.549878) | \n",
      "Epoch 10, CIFAR-10 Batch 5:  validation (accuracy, loss): (0.621, 0.392823) | \n",
      "Epoch 11, CIFAR-10 Batch 1:  validation (accuracy, loss): (0.6188, 0.582953) | \n",
      "Epoch 11, CIFAR-10 Batch 2:  validation (accuracy, loss): (0.6198, 0.480214) | \n",
      "Epoch 11, CIFAR-10 Batch 3:  validation (accuracy, loss): (0.6334, 0.316325) | \n",
      "Epoch 11, CIFAR-10 Batch 4:  validation (accuracy, loss): (0.635, 0.525108) | \n",
      "Epoch 11, CIFAR-10 Batch 5:  validation (accuracy, loss): (0.6422, 0.398357) | \n",
      "Epoch 12, CIFAR-10 Batch 1:  validation (accuracy, loss): (0.629, 0.541455) | \n",
      "Epoch 12, CIFAR-10 Batch 2:  validation (accuracy, loss): (0.634, 0.44854) | \n",
      "Epoch 12, CIFAR-10 Batch 3:  validation (accuracy, loss): (0.6408, 0.331999) | \n",
      "Epoch 12, CIFAR-10 Batch 4:  validation (accuracy, loss): (0.6308, 0.46522) | \n",
      "Epoch 12, CIFAR-10 Batch 5:  validation (accuracy, loss): (0.6548, 0.308565) | \n",
      "Epoch 13, CIFAR-10 Batch 1:  validation (accuracy, loss): (0.6384, 0.453053) | \n",
      "Epoch 13, CIFAR-10 Batch 2:  validation (accuracy, loss): (0.6452, 0.388947) | \n",
      "Epoch 13, CIFAR-10 Batch 3:  validation (accuracy, loss): (0.6396, 0.262895) | \n",
      "Epoch 13, CIFAR-10 Batch 4:  validation (accuracy, loss): (0.6432, 0.41778) | \n",
      "Epoch 13, CIFAR-10 Batch 5:  validation (accuracy, loss): (0.655, 0.225547) | \n",
      "Epoch 14, CIFAR-10 Batch 1:  validation (accuracy, loss): (0.6494, 0.403552) | \n",
      "Epoch 14, CIFAR-10 Batch 2:  validation (accuracy, loss): (0.645, 0.362222) | \n",
      "Epoch 14, CIFAR-10 Batch 3:  validation (accuracy, loss): (0.6496, 0.224126) | \n",
      "Epoch 14, CIFAR-10 Batch 4:  validation (accuracy, loss): (0.6526, 0.350274) | \n",
      "Epoch 14, CIFAR-10 Batch 5:  validation (accuracy, loss): (0.654, 0.207375) | \n",
      "Epoch 15, CIFAR-10 Batch 1:  validation (accuracy, loss): (0.655, 0.383627) | \n",
      "Epoch 15, CIFAR-10 Batch 2:  validation (accuracy, loss): (0.662, 0.388961) | \n",
      "Epoch 15, CIFAR-10 Batch 3:  validation (accuracy, loss): (0.6564, 0.208776) | \n",
      "Epoch 15, CIFAR-10 Batch 4:  validation (accuracy, loss): (0.668, 0.291911) | \n",
      "Epoch 15, CIFAR-10 Batch 5:  validation (accuracy, loss): (0.6612, 0.198476) | \n",
      "Epoch 16, CIFAR-10 Batch 1:  validation (accuracy, loss): (0.66, 0.320948) | \n",
      "Epoch 16, CIFAR-10 Batch 2:  validation (accuracy, loss): (0.649, 0.32371) | \n",
      "Epoch 16, CIFAR-10 Batch 3:  validation (accuracy, loss): (0.6596, 0.204738) | \n",
      "Epoch 16, CIFAR-10 Batch 4:  validation (accuracy, loss): (0.666, 0.268084) | \n",
      "Epoch 16, CIFAR-10 Batch 5:  validation (accuracy, loss): (0.6486, 0.150037) | \n",
      "Epoch 17, CIFAR-10 Batch 1:  validation (accuracy, loss): (0.6404, 0.360942) | \n",
      "Epoch 17, CIFAR-10 Batch 2:  validation (accuracy, loss): (0.6474, 0.274893) | \n",
      "Epoch 17, CIFAR-10 Batch 3:  validation (accuracy, loss): (0.6532, 0.157872) | \n",
      "Epoch 17, CIFAR-10 Batch 4:  validation (accuracy, loss): (0.6658, 0.240342) | \n",
      "Epoch 17, CIFAR-10 Batch 5:  validation (accuracy, loss): (0.6624, 0.14714) | \n",
      "Epoch 18, CIFAR-10 Batch 1:  validation (accuracy, loss): (0.6506, 0.306958) | \n",
      "Epoch 18, CIFAR-10 Batch 2:  validation (accuracy, loss): (0.6624, 0.228317) | \n",
      "Epoch 18, CIFAR-10 Batch 3:  validation (accuracy, loss): (0.6614, 0.109339) | \n",
      "Epoch 18, CIFAR-10 Batch 4:  validation (accuracy, loss): (0.6546, 0.262883) | \n",
      "Epoch 18, CIFAR-10 Batch 5:  validation (accuracy, loss): (0.6574, 0.130448) | \n",
      "Epoch 19, CIFAR-10 Batch 1:  validation (accuracy, loss): (0.6548, 0.282201) | \n",
      "Epoch 19, CIFAR-10 Batch 2:  validation (accuracy, loss): (0.6582, 0.2432) | \n",
      "Epoch 19, CIFAR-10 Batch 3:  validation (accuracy, loss): (0.6546, 0.134666) | \n",
      "Epoch 19, CIFAR-10 Batch 4:  validation (accuracy, loss): (0.6716, 0.192118) | \n",
      "Epoch 19, CIFAR-10 Batch 5:  validation (accuracy, loss): (0.675, 0.101835) | \n",
      "Epoch 20, CIFAR-10 Batch 1:  validation (accuracy, loss): (0.67, 0.224517) | \n",
      "Epoch 20, CIFAR-10 Batch 2:  validation (accuracy, loss): (0.657, 0.175069) | \n",
      "Epoch 20, CIFAR-10 Batch 3:  validation (accuracy, loss): (0.6518, 0.101285) | \n",
      "Epoch 20, CIFAR-10 Batch 4:  validation (accuracy, loss): (0.6696, 0.181776) | \n",
      "Epoch 20, CIFAR-10 Batch 5:  validation (accuracy, loss): (0.6642, 0.0985085) | \n",
      "Epoch 21, CIFAR-10 Batch 1:  validation (accuracy, loss): (0.666, 0.207284) | \n",
      "Epoch 21, CIFAR-10 Batch 2:  validation (accuracy, loss): (0.6538, 0.189609) | \n",
      "Epoch 21, CIFAR-10 Batch 3:  validation (accuracy, loss): (0.653, 0.0849344) | \n",
      "Epoch 21, CIFAR-10 Batch 4:  validation (accuracy, loss): (0.6658, 0.16011) | \n",
      "Epoch 21, CIFAR-10 Batch 5:  validation (accuracy, loss): (0.6716, 0.07572) | \n",
      "Epoch 22, CIFAR-10 Batch 1:  validation (accuracy, loss): (0.6558, 0.198068) | \n",
      "Epoch 22, CIFAR-10 Batch 2:  validation (accuracy, loss): (0.6528, 0.171161) | \n",
      "Epoch 22, CIFAR-10 Batch 3:  validation (accuracy, loss): (0.6372, 0.0758769) | \n",
      "Epoch 22, CIFAR-10 Batch 4:  validation (accuracy, loss): (0.6606, 0.127463) | \n",
      "Epoch 22, CIFAR-10 Batch 5:  validation (accuracy, loss): (0.6712, 0.0575742) | \n",
      "Epoch 23, CIFAR-10 Batch 1:  validation (accuracy, loss): (0.6632, 0.153248) | \n",
      "Epoch 23, CIFAR-10 Batch 2:  validation (accuracy, loss): (0.6516, 0.145372) | \n",
      "Epoch 23, CIFAR-10 Batch 3:  validation (accuracy, loss): (0.6322, 0.0993236) | \n",
      "Epoch 23, CIFAR-10 Batch 4:  validation (accuracy, loss): (0.662, 0.131369) | \n",
      "Epoch 23, CIFAR-10 Batch 5:  validation (accuracy, loss): (0.6738, 0.0336218) | \n",
      "Epoch 24, CIFAR-10 Batch 1:  validation (accuracy, loss): (0.6662, 0.136355) | \n",
      "Epoch 24, CIFAR-10 Batch 2:  validation (accuracy, loss): (0.6598, 0.179293) | \n",
      "Epoch 24, CIFAR-10 Batch 3:  validation (accuracy, loss): (0.638, 0.106524) | \n",
      "Epoch 24, CIFAR-10 Batch 4:  validation (accuracy, loss): (0.6572, 0.120684) | \n",
      "Epoch 24, CIFAR-10 Batch 5:  validation (accuracy, loss): (0.6688, 0.0395511) | \n",
      "Epoch 25, CIFAR-10 Batch 1:  validation (accuracy, loss): (0.6544, 0.13496) | \n",
      "Epoch 25, CIFAR-10 Batch 2:  validation (accuracy, loss): (0.652, 0.208674) | \n",
      "Epoch 25, CIFAR-10 Batch 3:  validation (accuracy, loss): (0.6296, 0.0823127) | \n",
      "Epoch 25, CIFAR-10 Batch 4:  validation (accuracy, loss): (0.663, 0.0866759) | \n",
      "Epoch 25, CIFAR-10 Batch 5:  validation (accuracy, loss): (0.6602, 0.029683) | \n",
      "Epoch 26, CIFAR-10 Batch 1:  validation (accuracy, loss): (0.652, 0.110242) | \n",
      "Epoch 26, CIFAR-10 Batch 2:  validation (accuracy, loss): (0.6634, 0.17904) | \n",
      "Epoch 26, CIFAR-10 Batch 3:  validation (accuracy, loss): (0.6404, 0.0790636) | \n",
      "Epoch 26, CIFAR-10 Batch 4:  validation (accuracy, loss): (0.6698, 0.084115) | \n",
      "Epoch 26, CIFAR-10 Batch 5:  validation (accuracy, loss): (0.6648, 0.0435872) | \n",
      "Epoch 27, CIFAR-10 Batch 1:  validation (accuracy, loss): (0.6608, 0.0997757) | \n",
      "Epoch 27, CIFAR-10 Batch 2:  validation (accuracy, loss): (0.6416, 0.149482) | \n",
      "Epoch 27, CIFAR-10 Batch 3:  validation (accuracy, loss): (0.6502, 0.0714803) | \n",
      "Epoch 27, CIFAR-10 Batch 4:  validation (accuracy, loss): (0.6634, 0.0745372) | \n",
      "Epoch 27, CIFAR-10 Batch 5:  validation (accuracy, loss): (0.6758, 0.0267825) | \n",
      "Epoch 28, CIFAR-10 Batch 1:  validation (accuracy, loss): (0.6604, 0.0916152) | \n",
      "Epoch 28, CIFAR-10 Batch 2:  validation (accuracy, loss): (0.6414, 0.139325) | \n",
      "Epoch 28, CIFAR-10 Batch 3:  validation (accuracy, loss): (0.6656, 0.0627212) | \n",
      "Epoch 28, CIFAR-10 Batch 4:  validation (accuracy, loss): (0.6586, 0.092943) | \n",
      "Epoch 28, CIFAR-10 Batch 5:  validation (accuracy, loss): (0.6708, 0.0216084) | \n",
      "Epoch 29, CIFAR-10 Batch 1:  validation (accuracy, loss): (0.6526, 0.100226) | \n",
      "Epoch 29, CIFAR-10 Batch 2:  validation (accuracy, loss): (0.6564, 0.126108) | \n",
      "Epoch 29, CIFAR-10 Batch 3:  validation (accuracy, loss): (0.6598, 0.0666881) | \n",
      "Epoch 29, CIFAR-10 Batch 4:  validation (accuracy, loss): (0.6618, 0.0846588) | \n",
      "Epoch 29, CIFAR-10 Batch 5:  validation (accuracy, loss): (0.6614, 0.0245909) | \n",
      "Epoch 30, CIFAR-10 Batch 1:  validation (accuracy, loss): (0.6638, 0.0749537) | \n",
      "Epoch 30, CIFAR-10 Batch 2:  validation (accuracy, loss): (0.6484, 0.118679) | \n",
      "Epoch 30, CIFAR-10 Batch 3:  validation (accuracy, loss): (0.6608, 0.0714477) | \n",
      "Epoch 30, CIFAR-10 Batch 4:  validation (accuracy, loss): (0.6636, 0.0620661) | \n",
      "Epoch 30, CIFAR-10 Batch 5:  validation (accuracy, loss): (0.6664, 0.0224216) | \n",
      "Epoch 31, CIFAR-10 Batch 1:  validation (accuracy, loss): (0.664, 0.0552077) | \n",
      "Epoch 31, CIFAR-10 Batch 2:  validation (accuracy, loss): (0.6284, 0.135102) | \n",
      "Epoch 31, CIFAR-10 Batch 3:  validation (accuracy, loss): (0.653, 0.0624053) | \n",
      "Epoch 31, CIFAR-10 Batch 4:  validation (accuracy, loss): (0.6634, 0.0567142) | \n",
      "Epoch 31, CIFAR-10 Batch 5:  validation (accuracy, loss): (0.6406, 0.0349616) | \n",
      "Epoch 32, CIFAR-10 Batch 1:  validation (accuracy, loss): (0.6498, 0.08187) | \n",
      "Epoch 32, CIFAR-10 Batch 2:  validation (accuracy, loss): (0.6316, 0.147163) | \n",
      "Epoch 32, CIFAR-10 Batch 3:  validation (accuracy, loss): (0.652, 0.0843431) | \n",
      "Epoch 32, CIFAR-10 Batch 4:  validation (accuracy, loss): (0.6598, 0.0601618) | \n",
      "Epoch 32, CIFAR-10 Batch 5:  validation (accuracy, loss): (0.6556, 0.020871) | \n",
      "Epoch 33, CIFAR-10 Batch 1:  validation (accuracy, loss): (0.6648, 0.0508856) | \n",
      "Epoch 33, CIFAR-10 Batch 2:  validation (accuracy, loss): (0.619, 0.0913843) | \n",
      "Epoch 33, CIFAR-10 Batch 3:  validation (accuracy, loss): (0.653, 0.0687061) | \n",
      "Epoch 33, CIFAR-10 Batch 4:  validation (accuracy, loss): (0.6482, 0.0820721) | \n",
      "Epoch 33, CIFAR-10 Batch 5:  validation (accuracy, loss): (0.6382, 0.0244582) | \n",
      "Epoch 34, CIFAR-10 Batch 1:  validation (accuracy, loss): (0.67, 0.0692635) | \n",
      "Epoch 34, CIFAR-10 Batch 2:  validation (accuracy, loss): (0.6328, 0.0842702) | \n",
      "Epoch 34, CIFAR-10 Batch 3:  validation (accuracy, loss): (0.6636, 0.0370145) | \n",
      "Epoch 34, CIFAR-10 Batch 4:  validation (accuracy, loss): (0.645, 0.0586564) | \n",
      "Epoch 34, CIFAR-10 Batch 5:  validation (accuracy, loss): (0.6708, 0.0130832) | \n",
      "Epoch 35, CIFAR-10 Batch 1:  validation (accuracy, loss): (0.6676, 0.0545818) | \n",
      "Epoch 35, CIFAR-10 Batch 2:  validation (accuracy, loss): (0.6326, 0.0945866) | \n",
      "Epoch 35, CIFAR-10 Batch 3:  validation (accuracy, loss): (0.6574, 0.0418327) | \n",
      "Epoch 35, CIFAR-10 Batch 4:  validation (accuracy, loss): (0.6634, 0.0365648) | \n",
      "Epoch 35, CIFAR-10 Batch 5:  validation (accuracy, loss): (0.6632, 0.0251154) | \n",
      "Epoch 36, CIFAR-10 Batch 1:  validation (accuracy, loss): (0.6628, 0.0659638) | \n",
      "Epoch 36, CIFAR-10 Batch 2:  validation (accuracy, loss): (0.6134, 0.0803058) | \n",
      "Epoch 36, CIFAR-10 Batch 3:  validation (accuracy, loss): (0.6578, 0.0399835) | \n",
      "Epoch 36, CIFAR-10 Batch 4:  validation (accuracy, loss): (0.6564, 0.0525768) | \n",
      "Epoch 36, CIFAR-10 Batch 5:  validation (accuracy, loss): (0.6738, 0.0125193) | \n",
      "Epoch 37, CIFAR-10 Batch 1:  validation (accuracy, loss): (0.676, 0.0455131) | \n",
      "Epoch 37, CIFAR-10 Batch 2:  validation (accuracy, loss): (0.6196, 0.0565896) | \n",
      "Epoch 37, CIFAR-10 Batch 3:  validation (accuracy, loss): (0.6596, 0.0179822) | \n",
      "Epoch 37, CIFAR-10 Batch 4:  validation (accuracy, loss): (0.6722, 0.0365581) | \n",
      "Epoch 37, CIFAR-10 Batch 5:  validation (accuracy, loss): (0.675, 0.00855255) | \n",
      "Epoch 38, CIFAR-10 Batch 1:  validation (accuracy, loss): (0.6642, 0.0434358) | \n",
      "Epoch 38, CIFAR-10 Batch 2:  validation (accuracy, loss): (0.645, 0.0514141) | \n",
      "Epoch 38, CIFAR-10 Batch 3:  validation (accuracy, loss): (0.6568, 0.0409489) | \n",
      "Epoch 38, CIFAR-10 Batch 4:  validation (accuracy, loss): (0.6638, 0.0491741) | \n",
      "Epoch 38, CIFAR-10 Batch 5:  validation (accuracy, loss): (0.6686, 0.00768295) | \n",
      "Epoch 39, CIFAR-10 Batch 1:  validation (accuracy, loss): (0.6468, 0.0392752) | \n",
      "Epoch 39, CIFAR-10 Batch 2:  validation (accuracy, loss): (0.6538, 0.0423115) | \n",
      "Epoch 39, CIFAR-10 Batch 3:  validation (accuracy, loss): (0.6544, 0.0592473) | \n",
      "Epoch 39, CIFAR-10 Batch 4:  validation (accuracy, loss): (0.6592, 0.0497065) | \n",
      "Epoch 39, CIFAR-10 Batch 5:  validation (accuracy, loss): (0.6722, 0.00506585) | \n",
      "Epoch 40, CIFAR-10 Batch 1:  validation (accuracy, loss): (0.6568, 0.0370742) | \n",
      "Epoch 40, CIFAR-10 Batch 2:  validation (accuracy, loss): (0.6552, 0.0414375) | \n",
      "Epoch 40, CIFAR-10 Batch 3:  validation (accuracy, loss): (0.6534, 0.0352555) | \n",
      "Epoch 40, CIFAR-10 Batch 4:  validation (accuracy, loss): (0.6494, 0.0398906) | \n",
      "Epoch 40, CIFAR-10 Batch 5:  validation (accuracy, loss): (0.6668, 0.0153449) | \n",
      "Epoch 41, CIFAR-10 Batch 1:  validation (accuracy, loss): (0.6544, 0.0358902) | \n",
      "Epoch 41, CIFAR-10 Batch 2:  validation (accuracy, loss): (0.6482, 0.0571248) | \n",
      "Epoch 41, CIFAR-10 Batch 3:  validation (accuracy, loss): (0.6564, 0.0270794) | \n",
      "Epoch 41, CIFAR-10 Batch 4:  validation (accuracy, loss): (0.6616, 0.0238297) | \n",
      "Epoch 41, CIFAR-10 Batch 5:  validation (accuracy, loss): (0.6712, 0.0076943) | \n",
      "Epoch 42, CIFAR-10 Batch 1:  validation (accuracy, loss): (0.661, 0.0296734) | \n",
      "Epoch 42, CIFAR-10 Batch 2:  validation (accuracy, loss): (0.6476, 0.0436776) | \n",
      "Epoch 42, CIFAR-10 Batch 3:  validation (accuracy, loss): (0.6594, 0.0181379) | \n",
      "Epoch 42, CIFAR-10 Batch 4:  validation (accuracy, loss): (0.6598, 0.0196608) | \n",
      "Epoch 42, CIFAR-10 Batch 5:  validation (accuracy, loss): (0.6558, 0.00611858) | \n",
      "Epoch 43, CIFAR-10 Batch 1:  validation (accuracy, loss): (0.6696, 0.0279752) | \n",
      "Epoch 43, CIFAR-10 Batch 2:  validation (accuracy, loss): (0.6456, 0.0502751) | \n",
      "Epoch 43, CIFAR-10 Batch 3:  validation (accuracy, loss): (0.6574, 0.014651) | \n",
      "Epoch 43, CIFAR-10 Batch 4:  validation (accuracy, loss): (0.6568, 0.0270389) | \n",
      "Epoch 43, CIFAR-10 Batch 5:  validation (accuracy, loss): (0.6628, 0.00365485) | \n",
      "Epoch 44, CIFAR-10 Batch 1:  validation (accuracy, loss): (0.656, 0.0255085) | \n",
      "Epoch 44, CIFAR-10 Batch 2:  validation (accuracy, loss): (0.643, 0.0425535) | \n",
      "Epoch 44, CIFAR-10 Batch 3:  validation (accuracy, loss): (0.6596, 0.0165759) | \n",
      "Epoch 44, CIFAR-10 Batch 4:  validation (accuracy, loss): (0.654, 0.0260156) | \n",
      "Epoch 44, CIFAR-10 Batch 5:  validation (accuracy, loss): (0.6574, 0.00677894) | \n",
      "Epoch 45, CIFAR-10 Batch 1:  validation (accuracy, loss): (0.6564, 0.0355932) | \n",
      "Epoch 45, CIFAR-10 Batch 2:  validation (accuracy, loss): (0.6538, 0.0286671) | \n",
      "Epoch 45, CIFAR-10 Batch 3:  validation (accuracy, loss): (0.66, 0.0063689) | \n",
      "Epoch 45, CIFAR-10 Batch 4:  validation (accuracy, loss): (0.6646, 0.0229334) | \n",
      "Epoch 45, CIFAR-10 Batch 5:  validation (accuracy, loss): (0.6584, 0.0035536) | \n",
      "Epoch 46, CIFAR-10 Batch 1:  validation (accuracy, loss): (0.6548, 0.0235832) | \n",
      "Epoch 46, CIFAR-10 Batch 2:  validation (accuracy, loss): (0.647, 0.032161) | \n",
      "Epoch 46, CIFAR-10 Batch 3:  validation (accuracy, loss): (0.661, 0.0172546) | \n",
      "Epoch 46, CIFAR-10 Batch 4:  validation (accuracy, loss): (0.655, 0.0113038) | \n",
      "Epoch 46, CIFAR-10 Batch 5:  validation (accuracy, loss): (0.6622, 0.00361082) | \n",
      "Epoch 47, CIFAR-10 Batch 1:  validation (accuracy, loss): (0.6534, 0.0307748) | \n",
      "Epoch 47, CIFAR-10 Batch 2:  validation (accuracy, loss): (0.6538, 0.0336841) | \n",
      "Epoch 47, CIFAR-10 Batch 3:  validation (accuracy, loss): (0.6606, 0.0121572) | \n",
      "Epoch 47, CIFAR-10 Batch 4:  validation (accuracy, loss): (0.6506, 0.00643136) | \n",
      "Epoch 47, CIFAR-10 Batch 5:  validation (accuracy, loss): (0.6588, 0.00520622) | \n",
      "Epoch 48, CIFAR-10 Batch 1:  validation (accuracy, loss): (0.658, 0.0213192) | \n",
      "Epoch 48, CIFAR-10 Batch 2:  validation (accuracy, loss): (0.644, 0.0429385) | \n",
      "Epoch 48, CIFAR-10 Batch 3:  validation (accuracy, loss): (0.653, 0.0132219) | \n",
      "Epoch 48, CIFAR-10 Batch 4:  validation (accuracy, loss): (0.648, 0.00384011) | \n",
      "Epoch 48, CIFAR-10 Batch 5:  validation (accuracy, loss): (0.648, 0.0198547) | \n",
      "Epoch 49, CIFAR-10 Batch 1:  validation (accuracy, loss): (0.6466, 0.0248432) | \n",
      "Epoch 49, CIFAR-10 Batch 2:  validation (accuracy, loss): (0.6354, 0.0347) | \n",
      "Epoch 49, CIFAR-10 Batch 3:  validation (accuracy, loss): (0.6518, 0.0103783) | \n",
      "Epoch 49, CIFAR-10 Batch 4:  validation (accuracy, loss): (0.6446, 0.00967187) | \n",
      "Epoch 49, CIFAR-10 Batch 5:  validation (accuracy, loss): (0.6472, 0.00445334) | \n",
      "Epoch 50, CIFAR-10 Batch 1:  validation (accuracy, loss): (0.6618, 0.0166769) | \n",
      "Epoch 50, CIFAR-10 Batch 2:  validation (accuracy, loss): (0.632, 0.0411231) | \n",
      "Epoch 50, CIFAR-10 Batch 3:  validation (accuracy, loss): (0.6544, 0.00720024) | \n",
      "Epoch 50, CIFAR-10 Batch 4:  validation (accuracy, loss): (0.6298, 0.00434494) | \n",
      "Epoch 50, CIFAR-10 Batch 5:  validation (accuracy, loss): (0.6424, 0.0192048) | \n"
     ]
    }
   ],
   "source": [
    "\"\"\"\n",
    "DON'T MODIFY ANYTHING IN THIS CELL\n",
    "\"\"\"\n",
    "save_model_path = './image_classification'\n",
    "\n",
    "print('Training...')\n",
    "with tf.Session() as sess:\n",
    "    # Initializing the variables\n",
    "    sess.run(tf.global_variables_initializer())\n",
    "    \n",
    "    # Training cycle\n",
    "    for epoch in range(epochs):\n",
    "        # Loop over all batches\n",
    "        n_batches = 5\n",
    "        for batch_i in range(1, n_batches + 1):\n",
    "            for batch_features, batch_labels in helper.load_preprocess_training_batch(batch_i, batch_size):\n",
    "                train_neural_network(sess, optimizer, keep_probability, batch_features, batch_labels)\n",
    "            print('Epoch {:>2}, CIFAR-10 Batch {}:  '.format(epoch + 1, batch_i), end='')\n",
    "            print_stats(sess, batch_features, batch_labels, cost, accuracy)\n",
    "            \n",
    "    # Save Model\n",
    "    saver = tf.train.Saver()\n",
    "    save_path = saver.save(sess, save_model_path)"
   ]
  },
  {
   "cell_type": "markdown",
   "metadata": {
    "deletable": true,
    "editable": true
   },
   "source": [
    "# Checkpoint\n",
    "The model has been saved to disk.\n",
    "## Test Model\n",
    "Test your model against the test dataset.  This will be your final accuracy. You should have an accuracy greater than 50%. If you don't, keep tweaking the model architecture and parameters."
   ]
  },
  {
   "cell_type": "code",
   "execution_count": 310,
   "metadata": {
    "collapsed": false,
    "deletable": true,
    "editable": true
   },
   "outputs": [
    {
     "name": "stdout",
     "output_type": "stream",
     "text": [
      "Testing Accuracy: 0.64560546875\n",
      "\n"
     ]
    },
    {
     "data": {
      "image/png": "[encoded data removed]",
      "text/plain": [
       "<matplotlib.figure.Figure at 0x7f3318d3bc18>"
      ]
     },
     "metadata": {
      "image/png": {
       "height": 319,
       "width": 355
      }
     },
     "output_type": "display_data"
    }
   ],
   "source": [
    "\"\"\"\n",
    "DON'T MODIFY ANYTHING IN THIS CELL\n",
    "\"\"\"\n",
    "%matplotlib inline\n",
    "%config InlineBackend.figure_format = 'retina'\n",
    "\n",
    "import tensorflow as tf\n",
    "import pickle\n",
    "import helper\n",
    "import random\n",
    "\n",
    "# Set batch size if not already set\n",
    "try:\n",
    "    if batch_size:\n",
    "        pass\n",
    "except NameError:\n",
    "    batch_size = 64\n",
    "\n",
    "save_model_path = './image_classification'\n",
    "n_samples = 4\n",
    "top_n_predictions = 3\n",
    "\n",
    "def test_model():\n",
    "    \"\"\"\n",
    "    Test the saved model against the test dataset\n",
    "    \"\"\"\n",
    "\n",
    "    test_features, test_labels = pickle.load(open('preprocess_training.p', mode='rb'))\n",
    "    loaded_graph = tf.Graph()\n",
    "\n",
    "    with tf.Session(graph=loaded_graph) as sess:\n",
    "        # Load model\n",
    "        loader = tf.train.import_meta_graph(save_model_path + '.meta')\n",
    "        loader.restore(sess, save_model_path)\n",
    "\n",
    "        # Get Tensors from loaded model\n",
    "        loaded_x = loaded_graph.get_tensor_by_name('x:0')\n",
    "        loaded_y = loaded_graph.get_tensor_by_name('y:0')\n",
    "        loaded_keep_prob = loaded_graph.get_tensor_by_name('keep_prob:0')\n",
    "        loaded_logits = loaded_graph.get_tensor_by_name('logits:0')\n",
    "        loaded_acc = loaded_graph.get_tensor_by_name('accuracy:0')\n",
    "        \n",
    "        # Get accuracy in batches for memory limitations\n",
    "        test_batch_acc_total = 0\n",
    "        test_batch_count = 0\n",
    "        \n",
    "        for train_feature_batch, train_label_batch in helper.batch_features_labels(test_features, test_labels, batch_size):\n",
    "            test_batch_acc_total += sess.run(\n",
    "                loaded_acc,\n",
    "                feed_dict={loaded_x: train_feature_batch, loaded_y: train_label_batch, loaded_keep_prob: 1.0})\n",
    "            test_batch_count += 1\n",
    "\n",
    "        print('Testing Accuracy: {}\\n'.format(test_batch_acc_total/test_batch_count))\n",
    "\n",
    "        # Print Random Samples\n",
    "        random_test_features, random_test_labels = tuple(zip(*random.sample(list(zip(test_features, test_labels)), n_samples)))\n",
    "        random_test_predictions = sess.run(\n",
    "            tf.nn.top_k(tf.nn.softmax(loaded_logits), top_n_predictions),\n",
    "            feed_dict={loaded_x: random_test_features, loaded_y: random_test_labels, loaded_keep_prob: 1.0})\n",
    "        helper.display_image_predictions(random_test_features, random_test_labels, random_test_predictions)\n",
    "\n",
    "\n",
    "test_model()"
   ]
  },
  {
   "cell_type": "markdown",
   "metadata": {
    "deletable": true,
    "editable": true
   },
   "source": [
    "## Why 50-70% Accuracy?\n",
    "You might be wondering why you can't get an accuracy any higher. First things first, 50% isn't bad for a simple CNN.  Pure guessing would get you 10% accuracy. However, you might notice people are getting scores [well above 70%](http://rodrigob.github.io/are_we_there_yet/build/classification_datasets_results.html#43494641522d3130).  That's because we haven't taught you all there is to know about neural networks. We still need to cover a few more techniques.\n",
    "## Submitting This Project\n",
    "When submitting this project, make sure to run all the cells before saving the notebook.  Save the notebook file as \"dlnd_image_classification.ipynb\" and save it as a HTML file under \"File\" -> \"Download as\".  Include the \"helper.py\" and \"problem_unittests.py\" files in your submission."
   ]
  }
 ],
 "metadata": {
  "kernelspec": {
   "display_name": "Python 3",
   "language": "python",
   "name": "python3"
  },
  "language_info": {
   "codemirror_mode": {
    "name": "ipython",
    "version": 3
   },
   "file_extension": ".py",
   "mimetype": "text/x-python",
   "name": "python",
   "nbconvert_exporter": "python",
   "pygments_lexer": "ipython3",
   "version": "3.5.3"
  }
 },
 "nbformat": 4,
 "nbformat_minor": 0
}
