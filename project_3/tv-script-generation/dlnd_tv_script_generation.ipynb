{
 "cells": [
  {
   "cell_type": "markdown",
   "metadata": {
    "deletable": true,
    "editable": true
   },
   "source": [
    "# TV Script Generation\n",
    "In this project, you'll generate your own [Simpsons](https://en.wikipedia.org/wiki/The_Simpsons) TV scripts using RNNs.  You'll be using part of the [Simpsons dataset](https://www.kaggle.com/wcukierski/the-simpsons-by-the-data) of scripts from 27 seasons.  The Neural Network you'll build will generate a new TV script for a scene at [Moe's Tavern](https://simpsonswiki.com/wiki/Moe's_Tavern).\n",
    "## Get the Data\n",
    "The data is already provided for you.  You'll be using a subset of the original dataset.  It consists of only the scenes in Moe's Tavern.  This doesn't include other versions of the tavern, like \"Moe's Cavern\", \"Flaming Moe's\", \"Uncle Moe's Family Feed-Bag\", etc.."
   ]
  },
  {
   "cell_type": "code",
   "execution_count": 22,
   "metadata": {
    "collapsed": true,
    "deletable": true,
    "editable": true
   },
   "outputs": [],
   "source": [
    "\"\"\"\n",
    "DON'T MODIFY ANYTHING IN THIS CELL\n",
    "\"\"\"\n",
    "import helper\n",
    "\n",
    "data_dir = './data/simpsons/moes_tavern_lines.txt'\n",
    "text = helper.load_data(data_dir)\n",
    "# Ignore notice, since we don't use it for analysing the data\n",
    "text = text[81:]"
   ]
  },
  {
   "cell_type": "markdown",
   "metadata": {
    "deletable": true,
    "editable": true
   },
   "source": [
    "## Explore the Data\n",
    "Play around with `view_sentence_range` to view different parts of the data."
   ]
  },
  {
   "cell_type": "code",
   "execution_count": 23,
   "metadata": {
    "collapsed": false,
    "deletable": true,
    "editable": true
   },
   "outputs": [
    {
     "name": "stdout",
     "output_type": "stream",
     "text": [
      "Dataset Stats\n",
      "Roughly the number of unique words: 11492\n",
      "Number of scenes: 262\n",
      "Average number of sentences in each scene: 15.248091603053435\n",
      "Number of lines: 4257\n",
      "Average number of words in each line: 11.50434578341555\n",
      "\n",
      "The sentences 20 to 40:\n",
      "\n",
      "Moe_Szyslak: Looks like this is the end.\n",
      "Barney_Gumble: That's all right. I couldn't have led a richer life.\n",
      "Barney_Gumble: So the next time somebody tells you county folk are good, honest people, you can spit in their faces for me!\n",
      "Lisa_Simpson: I will, Mr. Gumbel. But if you'll excuse me, I'm profiling my dad for the school paper. I thought it would be neat to follow him around for a day to see what makes him tick.\n",
      "Barney_Gumble: Oh, that's sweet. I used to follow my dad to a lot of bars too. (BELCH)\n",
      "Moe_Szyslak: Here you go. One beer, one chocolate milk.\n",
      "Lisa_Simpson: Uh, excuse me, I have the chocolate milk.\n",
      "Moe_Szyslak: Oh.\n",
      "Moe_Szyslak: What's the matter, Homer? The depressin' effects of alcohol usually don't kick in 'til closing time.\n",
      "Lisa_Simpson: He's just a little nervous. (PROUDLY) He has to give a speech tomorrow on \"How To Keep Cool In A Crisis.\"\n",
      "Homer_Simpson: (SOBS) What am I gonna do? What am I gonna do?\n",
      "Barney_Gumble: Hey, I had to give a speech once. I was pretty nervous, so I used a little trick. I pictured everyone in their underwear. The judge, the jury, my lawyer, everybody.\n",
      "Homer_Simpson: Did it work?\n",
      "Barney_Gumble: I'm a free man, ain't I?\n",
      "Barney_Gumble: Whoa!\n",
      "Barney_Gumble: Huh? A pretzel? Wow, looks like I pulled a Homer!\n",
      "\n",
      "\n",
      "Patrons: (MUMBLING, NOT IN UNISON) Happy thoughts... happy thoughts... we love that boy.\n"
     ]
    }
   ],
   "source": [
    "view_sentence_range = (20, 40)\n",
    "\n",
    "\"\"\"\n",
    "DON'T MODIFY ANYTHING IN THIS CELL\n",
    "\"\"\"\n",
    "import numpy as np\n",
    "\n",
    "print('Dataset Stats')\n",
    "print('Roughly the number of unique words: {}'.format(len({word: None for word in text.split()})))\n",
    "scenes = text.split('\\n\\n')\n",
    "print('Number of scenes: {}'.format(len(scenes)))\n",
    "sentence_count_scene = [scene.count('\\n') for scene in scenes]\n",
    "print('Average number of sentences in each scene: {}'.format(np.average(sentence_count_scene)))\n",
    "\n",
    "sentences = [sentence for scene in scenes for sentence in scene.split('\\n')]\n",
    "print('Number of lines: {}'.format(len(sentences)))\n",
    "word_count_sentence = [len(sentence.split()) for sentence in sentences]\n",
    "print('Average number of words in each line: {}'.format(np.average(word_count_sentence)))\n",
    "\n",
    "print()\n",
    "print('The sentences {} to {}:'.format(*view_sentence_range))\n",
    "print('\\n'.join(text.split('\\n')[view_sentence_range[0]:view_sentence_range[1]]))"
   ]
  },
  {
   "cell_type": "markdown",
   "metadata": {
    "deletable": true,
    "editable": true
   },
   "source": [
    "## Implement Preprocessing Functions\n",
    "The first thing to do to any dataset is preprocessing.  Implement the following preprocessing functions below:\n",
    "- Lookup Table\n",
    "- Tokenize Punctuation\n",
    "\n",
    "### Lookup Table\n",
    "To create a word embedding, you first need to transform the words to ids.  In this function, create two dictionaries:\n",
    "- Dictionary to go from the words to an id, we'll call `vocab_to_int`\n",
    "- Dictionary to go from the id to word, we'll call `int_to_vocab`\n",
    "\n",
    "Return these dictionaries in the following tuple `(vocab_to_int, int_to_vocab)`"
   ]
  },
  {
   "cell_type": "code",
   "execution_count": 24,
   "metadata": {
    "collapsed": false,
    "deletable": true,
    "editable": true
   },
   "outputs": [
    {
     "name": "stdout",
     "output_type": "stream",
     "text": [
      "['moe_szyslak', \"moe's\", 'tavern', 'where', 'the', 'elite', 'meet', 'to', 'drink', 'bart_simpson', 'eh', 'yeah', 'hello', 'is', 'mike', 'there', 'last', 'name', 'rotch', 'moe_szyslak', 'hold', 'on', \"i'll\", 'check', 'mike', 'rotch', 'mike', 'rotch', 'hey', 'has', 'anybody', 'seen', 'mike', 'rotch', 'lately', 'moe_szyslak', 'listen', 'you', 'little', 'puke', 'one', 'of', 'these', 'days', \"i'm\", 'gonna', 'catch', 'you', 'and', \"i'm\"]\n",
      "Tests Passed\n"
     ]
    }
   ],
   "source": [
    "import numpy as np\n",
    "import problem_unittests as tests\n",
    "\n",
    "from collections import Counter\n",
    "\n",
    "def create_lookup_tables(text):\n",
    "    \"\"\"\n",
    "    Create lookup tables for vocabulary\n",
    "    :param text: The text of tv scripts split into words\n",
    "    :return: A tuple of dicts (vocab_to_int, int_to_vocab)\n",
    "    \"\"\"\n",
    "    # TODO: Implement Function\n",
    "    print(text[0:50])\n",
    "    counts = Counter(text)\n",
    "    sortedWords = counts.most_common()\n",
    "#     sortedWords = sorted(counts, key=counts.get, reverse=True)\n",
    "    vocab_to_int = {}\n",
    "    int_to_vocab = {}\n",
    "    \n",
    "    for i, counterElem in enumerate(sortedWords):\n",
    "        word, count = counterElem\n",
    "        vocab_to_int[word] = i\n",
    "        int_to_vocab[i] = word\n",
    "    \n",
    "    return vocab_to_int, int_to_vocab\n",
    "\n",
    "\n",
    "\"\"\"\n",
    "DON'T MODIFY ANYTHING IN THIS CELL THAT IS BELOW THIS LINE\n",
    "\"\"\"\n",
    "tests.test_create_lookup_tables(create_lookup_tables)"
   ]
  },
  {
   "cell_type": "markdown",
   "metadata": {
    "deletable": true,
    "editable": true
   },
   "source": [
    "### Tokenize Punctuation\n",
    "We'll be splitting the script into a word array using spaces as delimiters.  However, punctuations like periods and exclamation marks make it hard for the neural network to distinguish between the word \"bye\" and \"bye!\".\n",
    "\n",
    "Implement the function `token_lookup` to return a dict that will be used to tokenize symbols like \"!\" into \"||Exclamation_Mark||\".  Create a dictionary for the following symbols where the symbol is the key and value is the token:\n",
    "- Period ( . )\n",
    "- Comma ( , )\n",
    "- Quotation Mark ( \" )\n",
    "- Semicolon ( ; )\n",
    "- Exclamation mark ( ! )\n",
    "- Question mark ( ? )\n",
    "- Left Parentheses ( ( )\n",
    "- Right Parentheses ( ) )\n",
    "- Dash ( -- )\n",
    "- Return ( \\n )\n",
    "\n",
    "This dictionary will be used to token the symbols and add the delimiter (space) around it.  This separates the symbols as it's own word, making it easier for the neural network to predict on the next word. Make sure you don't use a token that could be confused as a word. Instead of using the token \"dash\", try using something like \"||dash||\"."
   ]
  },
  {
   "cell_type": "code",
   "execution_count": 25,
   "metadata": {
    "collapsed": false,
    "deletable": true,
    "editable": true
   },
   "outputs": [
    {
     "name": "stdout",
     "output_type": "stream",
     "text": [
      "Tests Passed\n"
     ]
    }
   ],
   "source": [
    "def token_lookup():\n",
    "    \"\"\"\n",
    "    Generate a dict to turn punctuation into a token.\n",
    "    :return: Tokenize dictionary where the key is the punctuation and the value is the token\n",
    "    \"\"\"\n",
    "    token_dict = {\n",
    "        '.': '||Period||',\n",
    "        ',': '||Comma||',\n",
    "        '\\\"': '||Quotation_Mark||',\n",
    "        ';': '||Semicolon||',\n",
    "        '!': '||Exclamation_Mark||',\n",
    "        '?': '||Question_Mark||',\n",
    "        '(': '||Left_Parentheses||',\n",
    "        ')': '||Right_Parentheses||',\n",
    "        '--': '||Dash||',\n",
    "        '\\n': '||Return||',\n",
    "    }\n",
    "    return token_dict\n",
    "\n",
    "\"\"\"\n",
    "DON'T MODIFY ANYTHING IN THIS CELL THAT IS BELOW THIS LINE\n",
    "\"\"\"\n",
    "tests.test_tokenize(token_lookup)"
   ]
  },
  {
   "cell_type": "markdown",
   "metadata": {
    "deletable": true,
    "editable": true
   },
   "source": [
    "## Preprocess all the data and save it\n",
    "Running the code cell below will preprocess all the data and save it to file."
   ]
  },
  {
   "cell_type": "code",
   "execution_count": 5,
   "metadata": {
    "collapsed": false,
    "deletable": true,
    "editable": true
   },
   "outputs": [
    {
     "name": "stdout",
     "output_type": "stream",
     "text": [
      "['moe_szyslak:', '||left_parentheses||', 'into', 'phone', '||right_parentheses||', \"moe's\", 'tavern', '||period||', 'where', 'the', 'elite', 'meet', 'to', 'drink', '||period||', '||return||', 'bart_simpson:', 'eh', '||comma||', 'yeah', '||comma||', 'hello', '||comma||', 'is', 'mike', 'there', '||question_mark||', 'last', 'name', '||comma||', 'rotch', '||period||', '||return||', 'moe_szyslak:', '||left_parentheses||', 'into', 'phone', '||right_parentheses||', 'hold', 'on', '||comma||', \"i'll\", 'check', '||period||', '||left_parentheses||', 'to', 'barflies', '||right_parentheses||', 'mike', 'rotch']\n"
     ]
    }
   ],
   "source": [
    "\"\"\"\n",
    "DON'T MODIFY ANYTHING IN THIS CELL\n",
    "\"\"\"\n",
    "# Preprocess Training, Validation, and Testing Data\n",
    "helper.preprocess_and_save_data(data_dir, token_lookup, create_lookup_tables)"
   ]
  },
  {
   "cell_type": "markdown",
   "metadata": {
    "deletable": true,
    "editable": true
   },
   "source": [
    "# Check Point\n",
    "This is your first checkpoint. If you ever decide to come back to this notebook or have to restart the notebook, you can start from here. The preprocessed data has been saved to disk."
   ]
  },
  {
   "cell_type": "code",
   "execution_count": 26,
   "metadata": {
    "collapsed": true,
    "deletable": true,
    "editable": true
   },
   "outputs": [],
   "source": [
    "\"\"\"\n",
    "DON'T MODIFY ANYTHING IN THIS CELL\n",
    "\"\"\"\n",
    "import helper\n",
    "import numpy as np\n",
    "import problem_unittests as tests\n",
    "\n",
    "int_text, vocab_to_int, int_to_vocab, token_dict = helper.load_preprocess()"
   ]
  },
  {
   "cell_type": "markdown",
   "metadata": {
    "deletable": true,
    "editable": true
   },
   "source": [
    "## Build the Neural Network\n",
    "You'll build the components necessary to build a RNN by implementing the following functions below:\n",
    "- get_inputs\n",
    "- get_init_cell\n",
    "- get_embed\n",
    "- build_rnn\n",
    "- build_nn\n",
    "- get_batches\n",
    "\n",
    "### Check the Version of TensorFlow and Access to GPU"
   ]
  },
  {
   "cell_type": "code",
   "execution_count": 27,
   "metadata": {
    "collapsed": false,
    "deletable": true,
    "editable": true
   },
   "outputs": [
    {
     "name": "stdout",
     "output_type": "stream",
     "text": [
      "TensorFlow Version: 1.0.0\n",
      "Default GPU Device: /gpu:0\n"
     ]
    }
   ],
   "source": [
    "\"\"\"\n",
    "DON'T MODIFY ANYTHING IN THIS CELL\n",
    "\"\"\"\n",
    "from distutils.version import LooseVersion\n",
    "import warnings\n",
    "import tensorflow as tf\n",
    "\n",
    "# Check TensorFlow Version\n",
    "assert LooseVersion(tf.__version__) >= LooseVersion('1.0'), 'Please use TensorFlow version 1.0 or newer'\n",
    "print('TensorFlow Version: {}'.format(tf.__version__))\n",
    "\n",
    "# Check for a GPU\n",
    "if not tf.test.gpu_device_name():\n",
    "    warnings.warn('No GPU found. Please use a GPU to train your neural network.')\n",
    "else:\n",
    "    print('Default GPU Device: {}'.format(tf.test.gpu_device_name()))"
   ]
  },
  {
   "cell_type": "markdown",
   "metadata": {
    "deletable": true,
    "editable": true
   },
   "source": [
    "### Input\n",
    "Implement the `get_inputs()` function to create TF Placeholders for the Neural Network.  It should create the following placeholders:\n",
    "- Input text placeholder named \"input\" using the [TF Placeholder](https://www.tensorflow.org/api_docs/python/tf/placeholder) `name` parameter.\n",
    "- Targets placeholder\n",
    "- Learning Rate placeholder\n",
    "\n",
    "Return the placeholders in the following tuple `(Input, Targets, LearningRate)`"
   ]
  },
  {
   "cell_type": "code",
   "execution_count": 28,
   "metadata": {
    "collapsed": false,
    "deletable": true,
    "editable": true
   },
   "outputs": [
    {
     "name": "stdout",
     "output_type": "stream",
     "text": [
      "Tests Passed\n"
     ]
    }
   ],
   "source": [
    "def get_inputs():\n",
    "    \"\"\"\n",
    "    Create TF Placeholders for input, targets, and learning rate.\n",
    "    :return: Tuple (input, targets, learning rate)\n",
    "    \"\"\"\n",
    "    inputs = tf.placeholder(tf.int32, shape=[None, None], name=\"input\")\n",
    "    targets = tf.placeholder(tf.int32, shape=[None, None], name=\"target\")\n",
    "    learn_rate = tf.placeholder(tf.float32, name=\"learn_rate\")\n",
    "    \n",
    "    return inputs, targets, learn_rate\n",
    "\n",
    "\n",
    "\"\"\"\n",
    "DON'T MODIFY ANYTHING IN THIS CELL THAT IS BELOW THIS LINE\n",
    "\"\"\"\n",
    "tests.test_get_inputs(get_inputs)"
   ]
  },
  {
   "cell_type": "markdown",
   "metadata": {
    "deletable": true,
    "editable": true
   },
   "source": [
    "### Build RNN Cell and Initialize\n",
    "Stack one or more [`BasicLSTMCells`](https://www.tensorflow.org/api_docs/python/tf/contrib/rnn/BasicLSTMCell) in a [`MultiRNNCell`](https://www.tensorflow.org/api_docs/python/tf/contrib/rnn/MultiRNNCell).\n",
    "- The Rnn size should be set using `rnn_size`\n",
    "- Initalize Cell State using the MultiRNNCell's [`zero_state()`](https://www.tensorflow.org/api_docs/python/tf/contrib/rnn/MultiRNNCell#zero_state) function\n",
    "    - Apply the name \"initial_state\" to the initial state using [`tf.identity()`](https://www.tensorflow.org/api_docs/python/tf/identity)\n",
    "\n",
    "Return the cell and initial state in the following tuple `(Cell, InitialState)`"
   ]
  },
  {
   "cell_type": "code",
   "execution_count": 36,
   "metadata": {
    "collapsed": false,
    "deletable": true,
    "editable": true
   },
   "outputs": [
    {
     "name": "stdout",
     "output_type": "stream",
     "text": [
      "Tests Passed\n"
     ]
    }
   ],
   "source": [
    "def get_init_cell(batch_size, rnn_size):\n",
    "    \"\"\"\n",
    "    Create an RNN Cell and initialize it.\n",
    "    :param batch_size: Size of batches\n",
    "    :param rnn_size: Size of RNNs\n",
    "    :return: Tuple (cell, initialize state)\n",
    "    \"\"\"\n",
    "    lstm = tf.contrib.rnn.BasicLSTMCell(rnn_size)\n",
    "    drop = tf.contrib.rnn.DropoutWrapper(lstm, output_keep_prob=0.5)\n",
    "    cell = tf.contrib.rnn.MultiRNNCell([drop])\n",
    "    initial_state = cell.zero_state(batch_size, tf.float32)\n",
    "    initial_state_w_name = tf.identity(initial_state, name=\"initial_state\")\n",
    "    return cell, initial_state_w_name\n",
    "\n",
    "\n",
    "\"\"\"\n",
    "DON'T MODIFY ANYTHING IN THIS CELL THAT IS BELOW THIS LINE\n",
    "\"\"\"\n",
    "tests.test_get_init_cell(get_init_cell)"
   ]
  },
  {
   "cell_type": "markdown",
   "metadata": {
    "deletable": true,
    "editable": true
   },
   "source": [
    "### Word Embedding\n",
    "Apply embedding to `input_data` using TensorFlow.  Return the embedded sequence."
   ]
  },
  {
   "cell_type": "code",
   "execution_count": 37,
   "metadata": {
    "collapsed": false,
    "deletable": true,
    "editable": true
   },
   "outputs": [
    {
     "name": "stdout",
     "output_type": "stream",
     "text": [
      "Tests Passed\n"
     ]
    }
   ],
   "source": [
    "def get_embed(input_data, vocab_size, embed_dim):\n",
    "    \"\"\"\n",
    "    Create embedding for <input_data>.\n",
    "    :param input_data: TF placeholder for text input.\n",
    "    :param vocab_size: Number of words in vocabulary.\n",
    "    :param embed_dim: Number of embedding dimensions\n",
    "    :return: Embedded input.\n",
    "    \"\"\"\n",
    "    embedWeights = tf.Variable(tf.random_uniform((vocab_size, embed_dim), -1, 1))\n",
    "    embed = tf.nn.embedding_lookup(embedWeights, input_data)\n",
    "    return embed\n",
    "\n",
    "\n",
    "\"\"\"\n",
    "DON'T MODIFY ANYTHING IN THIS CELL THAT IS BELOW THIS LINE\n",
    "\"\"\"\n",
    "tests.test_get_embed(get_embed)"
   ]
  },
  {
   "cell_type": "markdown",
   "metadata": {
    "deletable": true,
    "editable": true
   },
   "source": [
    "### Build RNN\n",
    "You created a RNN Cell in the `get_init_cell()` function.  Time to use the cell to create a RNN.\n",
    "- Build the RNN using the [`tf.nn.dynamic_rnn()`](https://www.tensorflow.org/api_docs/python/tf/nn/dynamic_rnn)\n",
    " - Apply the name \"final_state\" to the final state using [`tf.identity()`](https://www.tensorflow.org/api_docs/python/tf/identity)\n",
    "\n",
    "Return the outputs and final_state state in the following tuple `(Outputs, FinalState)` "
   ]
  },
  {
   "cell_type": "code",
   "execution_count": 38,
   "metadata": {
    "collapsed": false,
    "deletable": true,
    "editable": true
   },
   "outputs": [
    {
     "name": "stdout",
     "output_type": "stream",
     "text": [
      "Tests Passed\n"
     ]
    }
   ],
   "source": [
    "def build_rnn(cell, inputs):\n",
    "    \"\"\"\n",
    "    Create a RNN using a RNN Cell\n",
    "    :param cell: RNN Cell\n",
    "    :param inputs: Input text data\n",
    "    :return: Tuple (Outputs, Final State)\n",
    "    \"\"\"\n",
    "    outputs, final_state = tf.nn.dynamic_rnn(cell, inputs, dtype=tf.float32)\n",
    "    final_state_w_name = tf.identity(final_state, name=\"final_state\")\n",
    "    return outputs, final_state_w_name\n",
    "\n",
    "\n",
    "\"\"\"\n",
    "DON'T MODIFY ANYTHING IN THIS CELL THAT IS BELOW THIS LINE\n",
    "\"\"\"\n",
    "tests.test_build_rnn(build_rnn)"
   ]
  },
  {
   "cell_type": "markdown",
   "metadata": {
    "deletable": true,
    "editable": true
   },
   "source": [
    "### Build the Neural Network\n",
    "Apply the functions you implemented above to:\n",
    "- Apply embedding to `input_data` using your `get_embed(input_data, vocab_size, embed_dim)` function.\n",
    "- Build RNN using `cell` and your `build_rnn(cell, inputs)` function.\n",
    "- Apply a fully connected layer with a linear activation and `vocab_size` as the number of outputs.\n",
    "\n",
    "Return the logits and final state in the following tuple (Logits, FinalState) "
   ]
  },
  {
   "cell_type": "code",
   "execution_count": 39,
   "metadata": {
    "collapsed": false,
    "deletable": true,
    "editable": true
   },
   "outputs": [
    {
     "name": "stdout",
     "output_type": "stream",
     "text": [
      "Tests Passed\n"
     ]
    }
   ],
   "source": [
    "def build_nn(cell, rnn_size, input_data, vocab_size, embed_dim):\n",
    "    \"\"\"\n",
    "    Build part of the neural network\n",
    "    :param cell: RNN cell\n",
    "    :param rnn_size: Size of rnns\n",
    "    :param input_data: Input data\n",
    "    :param vocab_size: Vocabulary size\n",
    "    :param embed_dim: Number of embedding dimensions\n",
    "    :return: Tuple (Logits, FinalState)\n",
    "    \"\"\"\n",
    "    # -------------------------------------------------------\n",
    "    # NOTE: Note really sure what to do with rnn_size - seems like that should have been used\n",
    "    # already when creating the cell that is getting passed in?\n",
    "    # -------------------------------------------------------\n",
    "    embed_inputs = get_embed(input_data, vocab_size, embed_dim)\n",
    "    outputs, final_state = build_rnn(cell, embed_inputs)\n",
    "    logits = tf.contrib.layers.fully_connected(outputs, vocab_size, activation_fn=None)\n",
    "\n",
    "    return logits, final_state\n",
    "\n",
    "\n",
    "\"\"\"\n",
    "DON'T MODIFY ANYTHING IN THIS CELL THAT IS BELOW THIS LINE\n",
    "\"\"\"\n",
    "tests.test_build_nn(build_nn)"
   ]
  },
  {
   "cell_type": "markdown",
   "metadata": {
    "deletable": true,
    "editable": true
   },
   "source": [
    "### Batches\n",
    "Implement `get_batches` to create batches of input and targets using `int_text`.  The batches should be a Numpy array with the shape `(number of batches, 2, batch size, sequence length)`. Each batch contains two elements:\n",
    "- The first element is a single batch of **input** with the shape `[batch size, sequence length]`\n",
    "- The second element is a single batch of **targets** with the shape `[batch size, sequence length]`\n",
    "\n",
    "If you can't fill the last batch with enough data, drop the last batch.\n",
    "\n",
    "For exmple, `get_batches([1, 2, 3, 4, 5, 6, 7, 8, 9, 10, 11, 12, 13, 14, 15], 2, 3)` would return a Numpy array of the following:\n",
    "```\n",
    "[\n",
    "  # First Batch\n",
    "  [\n",
    "    # Batch of Input\n",
    "    [[ 1  2  3], [ 7  8  9]],\n",
    "    # Batch of targets\n",
    "    [[ 2  3  4], [ 8  9 10]]\n",
    "  ],\n",
    " \n",
    "  # Second Batch\n",
    "  [\n",
    "    # Batch of Input\n",
    "    [[ 4  5  6], [10 11 12]],\n",
    "    # Batch of targets\n",
    "    [[ 5  6  7], [11 12 13]]\n",
    "  ]\n",
    "]\n",
    "```"
   ]
  },
  {
   "cell_type": "code",
   "execution_count": 40,
   "metadata": {
    "collapsed": false,
    "deletable": true,
    "editable": true
   },
   "outputs": [
    {
     "name": "stdout",
     "output_type": "stream",
     "text": [
      "Tests Passed\n"
     ]
    }
   ],
   "source": [
    "def get_batches(int_text, batch_size, seq_length):\n",
    "    \"\"\"\n",
    "    Return batches of input and target\n",
    "    :param int_text: Text with the words replaced by their ids\n",
    "    :param batch_size: The size of batch\n",
    "    :param seq_length: The length of sequence\n",
    "    :return: Batches as a Numpy array\n",
    "    \"\"\"\n",
    "    total = len(int_text)\n",
    "    # num_batches = int(math.ceil(total / (batch_size * seq_length)))\n",
    "    num_batches = total // (batch_size * seq_length)\n",
    "    offset = num_batches * seq_length\n",
    "    batches = []\n",
    "    for i in range(0, offset, seq_length):\n",
    "        batch_inp = []\n",
    "        batch_targ = []\n",
    "\n",
    "        for j in range(0, batch_size):\n",
    "            start = i + j * offset\n",
    "            end = start + seq_length\n",
    "            if end > total - 1:\n",
    "                break\n",
    "            batch_inp.append(int_text[start:end])\n",
    "            batch_targ.append(int_text[start+1:end+1])\n",
    "        batches.append(np.array([batch_inp, batch_targ]))\n",
    "    return np.array(batches)\n",
    "\n",
    "\n",
    "\"\"\"\n",
    "DON'T MODIFY ANYTHING IN THIS CELL THAT IS BELOW THIS LINE\n",
    "\"\"\"\n",
    "tests.test_get_batches(get_batches)"
   ]
  },
  {
   "cell_type": "markdown",
   "metadata": {
    "deletable": true,
    "editable": true
   },
   "source": [
    "## Neural Network Training\n",
    "### Hyperparameters\n",
    "Tune the following parameters:\n",
    "\n",
    "- Set `num_epochs` to the number of epochs.\n",
    "- Set `batch_size` to the batch size.\n",
    "- Set `rnn_size` to the size of the RNNs.\n",
    "- Set `embed_dim` to the size of the embedding.\n",
    "- Set `seq_length` to the length of sequence.\n",
    "- Set `learning_rate` to the learning rate.\n",
    "- Set `show_every_n_batches` to the number of batches the neural network should print progress."
   ]
  },
  {
   "cell_type": "code",
   "execution_count": 50,
   "metadata": {
    "collapsed": true,
    "deletable": true,
    "editable": true
   },
   "outputs": [],
   "source": [
    "# Number of Epochs\n",
    "num_epochs = 50\n",
    "# Batch Size\n",
    "batch_size = 10\n",
    "# RNN Size\n",
    "rnn_size = 512\n",
    "# Embedding Dimension Size\n",
    "embed_dim = 200\n",
    "# Sequence Length\n",
    "seq_length = 150\n",
    "# Learning Rate\n",
    "learning_rate = 0.005\n",
    "# Show stats for every n number of batches\n",
    "show_every_n_batches = 10\n",
    "\n",
    "\"\"\"\n",
    "DON'T MODIFY ANYTHING IN THIS CELL THAT IS BELOW THIS LINE\n",
    "\"\"\"\n",
    "save_dir = './save'"
   ]
  },
  {
   "cell_type": "markdown",
   "metadata": {
    "deletable": true,
    "editable": true
   },
   "source": [
    "### Build the Graph\n",
    "Build the graph using the neural network you implemented."
   ]
  },
  {
   "cell_type": "code",
   "execution_count": 51,
   "metadata": {
    "collapsed": true,
    "deletable": true,
    "editable": true
   },
   "outputs": [],
   "source": [
    "\"\"\"\n",
    "DON'T MODIFY ANYTHING IN THIS CELL\n",
    "\"\"\"\n",
    "from tensorflow.contrib import seq2seq\n",
    "\n",
    "train_graph = tf.Graph()\n",
    "with train_graph.as_default():\n",
    "    vocab_size = len(int_to_vocab)\n",
    "    input_text, targets, lr = get_inputs()\n",
    "    input_data_shape = tf.shape(input_text)\n",
    "    cell, initial_state = get_init_cell(input_data_shape[0], rnn_size)\n",
    "    logits, final_state = build_nn(cell, rnn_size, input_text, vocab_size, embed_dim)\n",
    "\n",
    "    # Probabilities for generating words\n",
    "    probs = tf.nn.softmax(logits, name='probs')\n",
    "\n",
    "    # Loss function\n",
    "    cost = seq2seq.sequence_loss(\n",
    "        logits,\n",
    "        targets,\n",
    "        tf.ones([input_data_shape[0], input_data_shape[1]]))\n",
    "\n",
    "    # Optimizer\n",
    "    optimizer = tf.train.AdamOptimizer(lr)\n",
    "\n",
    "    # Gradient Clipping\n",
    "    gradients = optimizer.compute_gradients(cost)\n",
    "    capped_gradients = [(tf.clip_by_value(grad, -1., 1.), var) for grad, var in gradients]\n",
    "    train_op = optimizer.apply_gradients(capped_gradients)"
   ]
  },
  {
   "cell_type": "markdown",
   "metadata": {
    "deletable": true,
    "editable": true
   },
   "source": [
    "## Train\n",
    "Train the neural network on the preprocessed data.  If you have a hard time getting a good loss, check the [forms](https://discussions.udacity.com/) to see if anyone is having the same problem."
   ]
  },
  {
   "cell_type": "code",
   "execution_count": 52,
   "metadata": {
    "collapsed": false,
    "deletable": true,
    "editable": true
   },
   "outputs": [
    {
     "name": "stdout",
     "output_type": "stream",
     "text": [
      "69100 10 150\n",
      "Epoch   0 Batch    0/46   train_loss = 8.825\n",
      "Epoch   0 Batch   10/46   train_loss = 6.305\n",
      "Epoch   0 Batch   20/46   train_loss = 5.986\n",
      "Epoch   0 Batch   30/46   train_loss = 5.575\n",
      "Epoch   0 Batch   40/46   train_loss = 5.221\n",
      "Epoch   1 Batch    4/46   train_loss = 5.199\n",
      "Epoch   1 Batch   14/46   train_loss = 5.199\n",
      "Epoch   1 Batch   24/46   train_loss = 4.976\n",
      "Epoch   1 Batch   34/46   train_loss = 4.921\n",
      "Epoch   1 Batch   44/46   train_loss = 4.900\n",
      "Epoch   2 Batch    8/46   train_loss = 4.902\n",
      "Epoch   2 Batch   18/46   train_loss = 4.905\n",
      "Epoch   2 Batch   28/46   train_loss = 4.527\n",
      "Epoch   2 Batch   38/46   train_loss = 4.505\n",
      "Epoch   3 Batch    2/46   train_loss = 4.416\n",
      "Epoch   3 Batch   12/46   train_loss = 4.440\n",
      "Epoch   3 Batch   22/46   train_loss = 4.549\n",
      "Epoch   3 Batch   32/46   train_loss = 4.337\n",
      "Epoch   3 Batch   42/46   train_loss = 4.309\n",
      "Epoch   4 Batch    6/46   train_loss = 4.210\n",
      "Epoch   4 Batch   16/46   train_loss = 4.202\n",
      "Epoch   4 Batch   26/46   train_loss = 4.092\n",
      "Epoch   4 Batch   36/46   train_loss = 4.017\n",
      "Epoch   5 Batch    0/46   train_loss = 3.830\n",
      "Epoch   5 Batch   10/46   train_loss = 4.068\n",
      "Epoch   5 Batch   20/46   train_loss = 3.979\n",
      "Epoch   5 Batch   30/46   train_loss = 3.873\n",
      "Epoch   5 Batch   40/46   train_loss = 3.757\n",
      "Epoch   6 Batch    4/46   train_loss = 3.811\n",
      "Epoch   6 Batch   14/46   train_loss = 3.789\n",
      "Epoch   6 Batch   24/46   train_loss = 3.784\n",
      "Epoch   6 Batch   34/46   train_loss = 3.607\n",
      "Epoch   6 Batch   44/46   train_loss = 3.560\n",
      "Epoch   7 Batch    8/46   train_loss = 3.557\n",
      "Epoch   7 Batch   18/46   train_loss = 3.559\n",
      "Epoch   7 Batch   28/46   train_loss = 3.349\n",
      "Epoch   7 Batch   38/46   train_loss = 3.347\n",
      "Epoch   8 Batch    2/46   train_loss = 3.298\n",
      "Epoch   8 Batch   12/46   train_loss = 3.301\n",
      "Epoch   8 Batch   22/46   train_loss = 3.277\n",
      "Epoch   8 Batch   32/46   train_loss = 3.231\n",
      "Epoch   8 Batch   42/46   train_loss = 3.163\n",
      "Epoch   9 Batch    6/46   train_loss = 3.132\n",
      "Epoch   9 Batch   16/46   train_loss = 3.109\n",
      "Epoch   9 Batch   26/46   train_loss = 2.998\n",
      "Epoch   9 Batch   36/46   train_loss = 2.986\n",
      "Epoch  10 Batch    0/46   train_loss = 2.816\n",
      "Epoch  10 Batch   10/46   train_loss = 2.944\n",
      "Epoch  10 Batch   20/46   train_loss = 2.910\n",
      "Epoch  10 Batch   30/46   train_loss = 2.915\n",
      "Epoch  10 Batch   40/46   train_loss = 2.839\n",
      "Epoch  11 Batch    4/46   train_loss = 2.815\n",
      "Epoch  11 Batch   14/46   train_loss = 2.765\n",
      "Epoch  11 Batch   24/46   train_loss = 2.878\n",
      "Epoch  11 Batch   34/46   train_loss = 2.711\n",
      "Epoch  11 Batch   44/46   train_loss = 2.668\n",
      "Epoch  12 Batch    8/46   train_loss = 2.585\n",
      "Epoch  12 Batch   18/46   train_loss = 2.574\n",
      "Epoch  12 Batch   28/46   train_loss = 2.622\n",
      "Epoch  12 Batch   38/46   train_loss = 2.585\n",
      "Epoch  13 Batch    2/46   train_loss = 2.558\n",
      "Epoch  13 Batch   12/46   train_loss = 2.543\n",
      "Epoch  13 Batch   22/46   train_loss = 2.419\n",
      "Epoch  13 Batch   32/46   train_loss = 2.368\n",
      "Epoch  13 Batch   42/46   train_loss = 2.372\n",
      "Epoch  14 Batch    6/46   train_loss = 2.407\n",
      "Epoch  14 Batch   16/46   train_loss = 2.322\n",
      "Epoch  14 Batch   26/46   train_loss = 2.297\n",
      "Epoch  14 Batch   36/46   train_loss = 2.220\n",
      "Epoch  15 Batch    0/46   train_loss = 2.131\n",
      "Epoch  15 Batch   10/46   train_loss = 2.157\n",
      "Epoch  15 Batch   20/46   train_loss = 2.103\n",
      "Epoch  15 Batch   30/46   train_loss = 2.188\n",
      "Epoch  15 Batch   40/46   train_loss = 2.105\n",
      "Epoch  16 Batch    4/46   train_loss = 2.031\n",
      "Epoch  16 Batch   14/46   train_loss = 1.953\n",
      "Epoch  16 Batch   24/46   train_loss = 2.191\n",
      "Epoch  16 Batch   34/46   train_loss = 1.944\n",
      "Epoch  16 Batch   44/46   train_loss = 1.929\n",
      "Epoch  17 Batch    8/46   train_loss = 1.891\n",
      "Epoch  17 Batch   18/46   train_loss = 1.843\n",
      "Epoch  17 Batch   28/46   train_loss = 1.957\n",
      "Epoch  17 Batch   38/46   train_loss = 1.912\n",
      "Epoch  18 Batch    2/46   train_loss = 1.902\n",
      "Epoch  18 Batch   12/46   train_loss = 1.847\n",
      "Epoch  18 Batch   22/46   train_loss = 1.727\n",
      "Epoch  18 Batch   32/46   train_loss = 1.805\n",
      "Epoch  18 Batch   42/46   train_loss = 1.722\n",
      "Epoch  19 Batch    6/46   train_loss = 1.882\n",
      "Epoch  19 Batch   16/46   train_loss = 1.673\n",
      "Epoch  19 Batch   26/46   train_loss = 1.813\n",
      "Epoch  19 Batch   36/46   train_loss = 1.705\n",
      "Epoch  20 Batch    0/46   train_loss = 1.627\n",
      "Epoch  20 Batch   10/46   train_loss = 1.687\n",
      "Epoch  20 Batch   20/46   train_loss = 1.591\n",
      "Epoch  20 Batch   30/46   train_loss = 1.665\n",
      "Epoch  20 Batch   40/46   train_loss = 1.645\n",
      "Epoch  21 Batch    4/46   train_loss = 1.603\n",
      "Epoch  21 Batch   14/46   train_loss = 1.557\n",
      "Epoch  21 Batch   24/46   train_loss = 1.663\n",
      "Epoch  21 Batch   34/46   train_loss = 1.560\n",
      "Epoch  21 Batch   44/46   train_loss = 1.528\n",
      "Epoch  22 Batch    8/46   train_loss = 1.476\n",
      "Epoch  22 Batch   18/46   train_loss = 1.469\n",
      "Epoch  22 Batch   28/46   train_loss = 1.580\n",
      "Epoch  22 Batch   38/46   train_loss = 1.526\n",
      "Epoch  23 Batch    2/46   train_loss = 1.565\n",
      "Epoch  23 Batch   12/46   train_loss = 1.429\n",
      "Epoch  23 Batch   22/46   train_loss = 1.385\n",
      "Epoch  23 Batch   32/46   train_loss = 1.453\n",
      "Epoch  23 Batch   42/46   train_loss = 1.405\n",
      "Epoch  24 Batch    6/46   train_loss = 1.517\n",
      "Epoch  24 Batch   16/46   train_loss = 1.312\n",
      "Epoch  24 Batch   26/46   train_loss = 1.468\n",
      "Epoch  24 Batch   36/46   train_loss = 1.389\n",
      "Epoch  25 Batch    0/46   train_loss = 1.316\n",
      "Epoch  25 Batch   10/46   train_loss = 1.356\n",
      "Epoch  25 Batch   20/46   train_loss = 1.293\n",
      "Epoch  25 Batch   30/46   train_loss = 1.366\n",
      "Epoch  25 Batch   40/46   train_loss = 1.335\n",
      "Epoch  26 Batch    4/46   train_loss = 1.261\n",
      "Epoch  26 Batch   14/46   train_loss = 1.196\n",
      "Epoch  26 Batch   24/46   train_loss = 1.373\n",
      "Epoch  26 Batch   34/46   train_loss = 1.275\n",
      "Epoch  26 Batch   44/46   train_loss = 1.247\n",
      "Epoch  27 Batch    8/46   train_loss = 1.187\n",
      "Epoch  27 Batch   18/46   train_loss = 1.139\n",
      "Epoch  27 Batch   28/46   train_loss = 1.191\n",
      "Epoch  27 Batch   38/46   train_loss = 1.279\n",
      "Epoch  28 Batch    2/46   train_loss = 1.219\n",
      "Epoch  28 Batch   12/46   train_loss = 1.165\n",
      "Epoch  28 Batch   22/46   train_loss = 1.066\n",
      "Epoch  28 Batch   32/46   train_loss = 1.127\n",
      "Epoch  28 Batch   42/46   train_loss = 1.118\n",
      "Epoch  29 Batch    6/46   train_loss = 1.184\n",
      "Epoch  29 Batch   16/46   train_loss = 1.087\n",
      "Epoch  29 Batch   26/46   train_loss = 1.182\n",
      "Epoch  29 Batch   36/46   train_loss = 1.146\n",
      "Epoch  30 Batch    0/46   train_loss = 1.076\n",
      "Epoch  30 Batch   10/46   train_loss = 1.071\n",
      "Epoch  30 Batch   20/46   train_loss = 1.082\n",
      "Epoch  30 Batch   30/46   train_loss = 1.116\n",
      "Epoch  30 Batch   40/46   train_loss = 1.142\n",
      "Epoch  31 Batch    4/46   train_loss = 1.007\n",
      "Epoch  31 Batch   14/46   train_loss = 0.984\n",
      "Epoch  31 Batch   24/46   train_loss = 1.132\n",
      "Epoch  31 Batch   34/46   train_loss = 1.068\n",
      "Epoch  31 Batch   44/46   train_loss = 1.048\n",
      "Epoch  32 Batch    8/46   train_loss = 1.006\n",
      "Epoch  32 Batch   18/46   train_loss = 0.970\n",
      "Epoch  32 Batch   28/46   train_loss = 1.014\n",
      "Epoch  32 Batch   38/46   train_loss = 1.058\n",
      "Epoch  33 Batch    2/46   train_loss = 1.047\n",
      "Epoch  33 Batch   12/46   train_loss = 0.996\n",
      "Epoch  33 Batch   22/46   train_loss = 0.902\n",
      "Epoch  33 Batch   32/46   train_loss = 0.980\n",
      "Epoch  33 Batch   42/46   train_loss = 0.974\n",
      "Epoch  34 Batch    6/46   train_loss = 1.040\n",
      "Epoch  34 Batch   16/46   train_loss = 0.864\n",
      "Epoch  34 Batch   26/46   train_loss = 0.982\n",
      "Epoch  34 Batch   36/46   train_loss = 0.996\n",
      "Epoch  35 Batch    0/46   train_loss = 0.956\n",
      "Epoch  35 Batch   10/46   train_loss = 0.988\n",
      "Epoch  35 Batch   20/46   train_loss = 0.908\n",
      "Epoch  35 Batch   30/46   train_loss = 0.928\n",
      "Epoch  35 Batch   40/46   train_loss = 1.016\n",
      "Epoch  36 Batch    4/46   train_loss = 0.897\n",
      "Epoch  36 Batch   14/46   train_loss = 0.874\n",
      "Epoch  36 Batch   24/46   train_loss = 0.990\n",
      "Epoch  36 Batch   34/46   train_loss = 0.964\n",
      "Epoch  36 Batch   44/46   train_loss = 0.901\n",
      "Epoch  37 Batch    8/46   train_loss = 0.862\n",
      "Epoch  37 Batch   18/46   train_loss = 0.877\n",
      "Epoch  37 Batch   28/46   train_loss = 0.909\n",
      "Epoch  37 Batch   38/46   train_loss = 0.958\n",
      "Epoch  38 Batch    2/46   train_loss = 0.928\n",
      "Epoch  38 Batch   12/46   train_loss = 0.910\n",
      "Epoch  38 Batch   22/46   train_loss = 0.811\n",
      "Epoch  38 Batch   32/46   train_loss = 0.907\n",
      "Epoch  38 Batch   42/46   train_loss = 0.910\n",
      "Epoch  39 Batch    6/46   train_loss = 0.974\n",
      "Epoch  39 Batch   16/46   train_loss = 0.854\n",
      "Epoch  39 Batch   26/46   train_loss = 0.908\n",
      "Epoch  39 Batch   36/46   train_loss = 0.862\n",
      "Epoch  40 Batch    0/46   train_loss = 0.875\n",
      "Epoch  40 Batch   10/46   train_loss = 0.841\n",
      "Epoch  40 Batch   20/46   train_loss = 0.797\n",
      "Epoch  40 Batch   30/46   train_loss = 0.920\n",
      "Epoch  40 Batch   40/46   train_loss = 0.928\n",
      "Epoch  41 Batch    4/46   train_loss = 0.854\n",
      "Epoch  41 Batch   14/46   train_loss = 0.833\n",
      "Epoch  41 Batch   24/46   train_loss = 0.952\n",
      "Epoch  41 Batch   34/46   train_loss = 0.871\n",
      "Epoch  41 Batch   44/46   train_loss = 0.834\n",
      "Epoch  42 Batch    8/46   train_loss = 0.836\n",
      "Epoch  42 Batch   18/46   train_loss = 0.841\n",
      "Epoch  42 Batch   28/46   train_loss = 0.848\n",
      "Epoch  42 Batch   38/46   train_loss = 0.889\n",
      "Epoch  43 Batch    2/46   train_loss = 0.862\n",
      "Epoch  43 Batch   12/46   train_loss = 0.884\n",
      "Epoch  43 Batch   22/46   train_loss = 0.779\n",
      "Epoch  43 Batch   32/46   train_loss = 0.807\n",
      "Epoch  43 Batch   42/46   train_loss = 0.842\n",
      "Epoch  44 Batch    6/46   train_loss = 0.875\n",
      "Epoch  44 Batch   16/46   train_loss = 0.798\n",
      "Epoch  44 Batch   26/46   train_loss = 0.868\n",
      "Epoch  44 Batch   36/46   train_loss = 0.852\n",
      "Epoch  45 Batch    0/46   train_loss = 0.860\n",
      "Epoch  45 Batch   10/46   train_loss = 0.839\n",
      "Epoch  45 Batch   20/46   train_loss = 0.757\n",
      "Epoch  45 Batch   30/46   train_loss = 0.805\n",
      "Epoch  45 Batch   40/46   train_loss = 0.900\n",
      "Epoch  46 Batch    4/46   train_loss = 0.816\n",
      "Epoch  46 Batch   14/46   train_loss = 0.830\n",
      "Epoch  46 Batch   24/46   train_loss = 0.795\n",
      "Epoch  46 Batch   34/46   train_loss = 0.794\n",
      "Epoch  46 Batch   44/46   train_loss = 0.752\n",
      "Epoch  47 Batch    8/46   train_loss = 0.787\n",
      "Epoch  47 Batch   18/46   train_loss = 0.768\n",
      "Epoch  47 Batch   28/46   train_loss = 0.814\n",
      "Epoch  47 Batch   38/46   train_loss = 0.866\n",
      "Epoch  48 Batch    2/46   train_loss = 0.846\n",
      "Epoch  48 Batch   12/46   train_loss = 0.836\n",
      "Epoch  48 Batch   22/46   train_loss = 0.725\n",
      "Epoch  48 Batch   32/46   train_loss = 0.780\n",
      "Epoch  48 Batch   42/46   train_loss = 0.815\n",
      "Epoch  49 Batch    6/46   train_loss = 0.845\n",
      "Epoch  49 Batch   16/46   train_loss = 0.747\n",
      "Epoch  49 Batch   26/46   train_loss = 0.850\n",
      "Epoch  49 Batch   36/46   train_loss = 0.800\n",
      "Final train_loss: 0.775\n",
      "Model Trained and Saved\n"
     ]
    }
   ],
   "source": [
    "\"\"\"\n",
    "DON'T MODIFY ANYTHING IN THIS CELL\n",
    "\"\"\"\n",
    "batches = get_batches(int_text, batch_size, seq_length)\n",
    "print(len(int_text), batch_size, seq_length)\n",
    "\n",
    "with tf.Session(graph=train_graph) as sess:\n",
    "    sess.run(tf.global_variables_initializer())\n",
    "\n",
    "    for epoch_i in range(num_epochs):\n",
    "        state = sess.run(initial_state, {input_text: batches[0][0]})\n",
    "\n",
    "        for batch_i, (x, y) in enumerate(batches):\n",
    "            feed = {\n",
    "                input_text: x,\n",
    "                targets: y,\n",
    "                initial_state: state,\n",
    "                lr: learning_rate}\n",
    "            train_loss, state, _ = sess.run([cost, final_state, train_op], feed)\n",
    "\n",
    "            # Show every <show_every_n_batches> batches\n",
    "            if (epoch_i * len(batches) + batch_i) % show_every_n_batches == 0:\n",
    "                print('Epoch {:>3} Batch {:>4}/{}   train_loss = {:.3f}'.format(\n",
    "                    epoch_i,\n",
    "                    batch_i,\n",
    "                    len(batches),\n",
    "                    train_loss))\n",
    "\n",
    "    print('Final train_loss: {:.3f}'.format(train_loss))\n",
    "                \n",
    "    # Save Model\n",
    "    saver = tf.train.Saver()\n",
    "    saver.save(sess, save_dir)\n",
    "    print('Model Trained and Saved')"
   ]
  },
  {
   "cell_type": "markdown",
   "metadata": {
    "deletable": true,
    "editable": true
   },
   "source": [
    "## Save Parameters\n",
    "Save `seq_length` and `save_dir` for generating a new TV script."
   ]
  },
  {
   "cell_type": "code",
   "execution_count": 53,
   "metadata": {
    "collapsed": true,
    "deletable": true,
    "editable": true
   },
   "outputs": [],
   "source": [
    "\"\"\"\n",
    "DON'T MODIFY ANYTHING IN THIS CELL\n",
    "\"\"\"\n",
    "# Save parameters for checkpoint\n",
    "helper.save_params((seq_length, save_dir))"
   ]
  },
  {
   "cell_type": "markdown",
   "metadata": {
    "deletable": true,
    "editable": true
   },
   "source": [
    "# Checkpoint"
   ]
  },
  {
   "cell_type": "code",
   "execution_count": 54,
   "metadata": {
    "collapsed": true,
    "deletable": true,
    "editable": true
   },
   "outputs": [],
   "source": [
    "\"\"\"\n",
    "DON'T MODIFY ANYTHING IN THIS CELL\n",
    "\"\"\"\n",
    "import tensorflow as tf\n",
    "import numpy as np\n",
    "import helper\n",
    "import problem_unittests as tests\n",
    "\n",
    "_, vocab_to_int, int_to_vocab, token_dict = helper.load_preprocess()\n",
    "seq_length, load_dir = helper.load_params()"
   ]
  },
  {
   "cell_type": "markdown",
   "metadata": {
    "deletable": true,
    "editable": true
   },
   "source": [
    "## Implement Generate Functions\n",
    "### Get Tensors\n",
    "Get tensors from `loaded_graph` using the function [`get_tensor_by_name()`](https://www.tensorflow.org/api_docs/python/tf/Graph#get_tensor_by_name).  Get the tensors using the following names:\n",
    "- \"input:0\"\n",
    "- \"initial_state:0\"\n",
    "- \"final_state:0\"\n",
    "- \"probs:0\"\n",
    "\n",
    "Return the tensors in the following tuple `(InputTensor, InitialStateTensor, FinalStateTensor, ProbsTensor)` "
   ]
  },
  {
   "cell_type": "code",
   "execution_count": 55,
   "metadata": {
    "collapsed": false,
    "deletable": true,
    "editable": true
   },
   "outputs": [
    {
     "name": "stdout",
     "output_type": "stream",
     "text": [
      "Tests Passed\n"
     ]
    }
   ],
   "source": [
    "def get_tensors(loaded_graph):\n",
    "    \"\"\"\n",
    "    Get input, initial state, final state, and probabilities tensor from <loaded_graph>\n",
    "    :param loaded_graph: TensorFlow graph loaded from file\n",
    "    :return: Tuple (InputTensor, InitialStateTensor, FinalStateTensor, ProbsTensor)\n",
    "    \"\"\"\n",
    "    input_tensor = loaded_graph.get_tensor_by_name('input:0')\n",
    "    initial_state_tensor = loaded_graph.get_tensor_by_name('initial_state:0')\n",
    "    final_state_tensor = loaded_graph.get_tensor_by_name('final_state:0')\n",
    "    probs_tensor = loaded_graph.get_tensor_by_name('probs:0')\n",
    "    \n",
    "    # TODO: Implement Function\n",
    "    return input_tensor, initial_state_tensor, final_state_tensor, probs_tensor\n",
    "\n",
    "\n",
    "\"\"\"\n",
    "DON'T MODIFY ANYTHING IN THIS CELL THAT IS BELOW THIS LINE\n",
    "\"\"\"\n",
    "tests.test_get_tensors(get_tensors)"
   ]
  },
  {
   "cell_type": "markdown",
   "metadata": {
    "deletable": true,
    "editable": true
   },
   "source": [
    "### Choose Word\n",
    "Implement the `pick_word()` function to select the next word using `probabilities`."
   ]
  },
  {
   "cell_type": "code",
   "execution_count": 77,
   "metadata": {
    "collapsed": false,
    "deletable": true,
    "editable": true
   },
   "outputs": [
    {
     "name": "stdout",
     "output_type": "stream",
     "text": [
      "Tests Passed\n"
     ]
    }
   ],
   "source": [
    "def pick_word(probabilities, int_to_vocab):\n",
    "    \"\"\"\n",
    "    Pick the next word in the generated text\n",
    "    :param probabilities: Probabilites of the next word\n",
    "    :param int_to_vocab: Dictionary of word ids as the keys and words as the values\n",
    "    :return: String of the predicted word\n",
    "    \"\"\"\n",
    "    idx_choice = np.random.choice(np.arange(len(int_to_vocab)), p=probabilities)\n",
    "    return int_to_vocab[idx_choice]\n",
    "\n",
    "\n",
    "\"\"\"\n",
    "DON'T MODIFY ANYTHING IN THIS CELL THAT IS BELOW THIS LINE\n",
    "\"\"\"\n",
    "tests.test_pick_word(pick_word)"
   ]
  },
  {
   "cell_type": "markdown",
   "metadata": {
    "deletable": true,
    "editable": true
   },
   "source": [
    "## Generate TV Script\n",
    "This will generate the TV script for you.  Set `gen_length` to the length of TV script you want to generate."
   ]
  },
  {
   "cell_type": "code",
   "execution_count": 78,
   "metadata": {
    "collapsed": false,
    "deletable": true,
    "editable": true
   },
   "outputs": [
    {
     "name": "stdout",
     "output_type": "stream",
     "text": [
      "moe_szyslak: uh, i wouldn't have... what's this happened to?\n",
      "homer_simpson: nah, i guess i'll walk home.\n",
      "fox_mulder: we're in the south of france.\n",
      "bar_rag:(quickly) i don't know nothin'!\n",
      "\n",
      "\n",
      "homer_simpson:(then) i'm sorry, homer.\n",
      "homer_simpson: okay, this is a girl off, you're wrong.\n",
      "homer_simpson: and then you, i could whip see my cover right, chief wiggum, don't dr. for homer, i didn't-- that's 'cause uh, you know i can be a lot more popular. but i put in a bidet. well, it's a flaming what i'm proposing, i swear. if they get us from garbage.\n",
      "carl_carlson: yap, in a jar.\n",
      "moe_szyslak: wow, this is serious.\n",
      "kent_brockman: this is kent even-- huh?\n",
      "krusty_the_clown: what is this?\n",
      "larry: whatcha was tonight, him!\n",
      "homer_simpson: moe, this rosey, marge, i'm gonna gamble you back.\n",
      "moe_szyslak: eh, you sure saved\"!\n",
      "c. _montgomery_burns:\n"
     ]
    }
   ],
   "source": [
    "gen_length = 200\n",
    "# homer_simpson, moe_szyslak, or Barney_Gumble\n",
    "prime_word = 'moe_szyslak'\n",
    "\n",
    "\"\"\"\n",
    "DON'T MODIFY ANYTHING IN THIS CELL THAT IS BELOW THIS LINE\n",
    "\"\"\"\n",
    "loaded_graph = tf.Graph()\n",
    "with tf.Session(graph=loaded_graph) as sess:\n",
    "    # Load saved model\n",
    "    loader = tf.train.import_meta_graph(load_dir + '.meta')\n",
    "    loader.restore(sess, load_dir)\n",
    "\n",
    "    # Get Tensors from loaded model\n",
    "    input_text, initial_state, final_state, probs = get_tensors(loaded_graph)\n",
    "\n",
    "    # Sentences generation setup\n",
    "    gen_sentences = [prime_word + ':']\n",
    "    prev_state = sess.run(initial_state, {input_text: np.array([[1]])})\n",
    "\n",
    "    # Generate sentences\n",
    "    for n in range(gen_length):\n",
    "        # Dynamic Input\n",
    "        dyn_input = [[vocab_to_int[word] for word in gen_sentences[-seq_length:]]]\n",
    "        dyn_seq_length = len(dyn_input[0])\n",
    "\n",
    "        # Get Prediction\n",
    "        probabilities, prev_state = sess.run(\n",
    "            [probs, final_state],\n",
    "            {input_text: dyn_input, initial_state: prev_state})\n",
    "        \n",
    "        pred_word = pick_word(probabilities[dyn_seq_length-1], int_to_vocab)\n",
    "\n",
    "        gen_sentences.append(pred_word)\n",
    "    \n",
    "    # Remove tokens\n",
    "    tv_script = ' '.join(gen_sentences)\n",
    "    for key, token in token_dict.items():\n",
    "        ending = ' ' if key in ['\\n', '(', '\"'] else ''\n",
    "        tv_script = tv_script.replace(' ' + token.lower(), key)\n",
    "    tv_script = tv_script.replace('\\n ', '\\n')\n",
    "    tv_script = tv_script.replace('( ', '(')\n",
    "        \n",
    "    print(tv_script)"
   ]
  },
  {
   "cell_type": "markdown",
   "metadata": {
    "deletable": true,
    "editable": true
   },
   "source": [
    "# The TV Script is Nonsensical\n",
    "It's ok if the TV script doesn't make any sense.  We trained on less than a megabyte of text.  In order to get good results, you'll have to use a smaller vocabulary or get more data.  Luckly there's more data!  As we mentioned in the begging of this project, this is a subset of [another dataset](https://www.kaggle.com/wcukierski/the-simpsons-by-the-data).  We didn't have you train on all the data, because that would take too long.  However, you are free to train your neural network on all the data.  After you complete the project, of course.\n",
    "# Submitting This Project\n",
    "When submitting this project, make sure to run all the cells before saving the notebook. Save the notebook file as \"dlnd_tv_script_generation.ipynb\" and save it as a HTML file under \"File\" -> \"Download as\". Include the \"helper.py\" and \"problem_unittests.py\" files in your submission."
   ]
  }
 ],
 "metadata": {
  "kernelspec": {
   "display_name": "Python 3",
   "language": "python",
   "name": "python3"
  },
  "language_info": {
   "codemirror_mode": {
    "name": "ipython",
    "version": 3
   },
   "file_extension": ".py",
   "mimetype": "text/x-python",
   "name": "python",
   "nbconvert_exporter": "python",
   "pygments_lexer": "ipython3",
   "version": "3.5.3"
  },
  "widgets": {
   "state": {},
   "version": "1.1.2"
  }
 },
 "nbformat": 4,
 "nbformat_minor": 1
}
